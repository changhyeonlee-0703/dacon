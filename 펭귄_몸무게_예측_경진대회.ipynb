{
  "nbformat": 4,
  "nbformat_minor": 0,
  "metadata": {
    "colab": {
      "name": "펭귄 몸무게 예측 경진대회.ipynb",
      "provenance": [],
      "collapsed_sections": [],
      "authorship_tag": "ABX9TyP86IGsSrbmdruRXoXgoHKE",
      "include_colab_link": true
    },
    "kernelspec": {
      "name": "python3",
      "display_name": "Python 3"
    },
    "language_info": {
      "name": "python"
    }
  },
  "cells": [
    {
      "cell_type": "markdown",
      "metadata": {
        "id": "view-in-github",
        "colab_type": "text"
      },
      "source": [
        "<a href=\"https://colab.research.google.com/github/changhyeonlee-0703/dacon/blob/master/%ED%8E%AD%EA%B7%84_%EB%AA%B8%EB%AC%B4%EA%B2%8C_%EC%98%88%EC%B8%A1_%EA%B2%BD%EC%A7%84%EB%8C%80%ED%9A%8C.ipynb\" target=\"_parent\"><img src=\"https://colab.research.google.com/assets/colab-badge.svg\" alt=\"Open In Colab\"/></a>"
      ]
    },
    {
      "cell_type": "markdown",
      "source": [
        "## 1. train.csv : 학습 데이터\n",
        " - id : 샘플 아이디\n",
        " - Species: 펭귄의 종을 나타내는 문자열\n",
        " - Island : 샘플들이 수집된 Palmer Station 근처 섬 이름\n",
        " - Clutch Completion : 관찰된 펭귄 둥지의 알이 2개인 경우 Full Clutch이며 Yes로 표기\n",
        " - Culmen Length (mm) : 펭귄 옆모습 기준 부리의 가로 길이\n",
        " - Culmen Depth (mm) : 펭귄 옆모습 기준 부리의 세로 길이\n",
        " - Flipper Length (mm) : 펭귄의 팔(날개) 길이\n",
        " - Sex : 펭귄의 성별\n",
        " - Delta 15 N (o/oo)  : 토양에 따라 변화하는 안정 동위원소 15N:14N의 비율\n",
        " - Delta 13 C (o/oo) : 먹이에 따라 변화하는 안정 동위원소 13C:12C의 비율\n",
        " - Body Mass (g): 펭귄의 몸무게를 나타내는 숫자 (g)\n",
        "\n",
        "\n",
        "## 2. test.csv : 테스트 데이터\n",
        " - id : 샘플 아이디\n",
        " - Species: 펭귄의 종을 나타내는 문자열\n",
        " - Island : 샘플들이 수집된 Palmer Station 근처 섬 이름\n",
        " - Clutch Completion : 관찰된 펭귄 둥지의 알이 2개인 경우 Full Clutch이며 Yes로 표기\n",
        " - Culmen Length (mm) : 펭귄 옆모습 기준 부리의 가로 길이\n",
        " - Culmen Depth (mm) : 펭귄 옆모습 기준 부리의 세로 길이\n",
        " - Flipper Length (mm) : 펭귄의 팔(날개) 길이\n",
        " - Sex : 펭귄의 성별\n",
        " - Delta 15 N (o/oo)  : 토양에 따라 변화하는 안정 동위원소 15N:14N의 비율\n",
        " - Delta 13 C (o/oo) : 먹이에 따라 변화하는 안정 동위원소 13C:12C의 비율\n",
        "\n",
        "\n",
        "\n",
        "## 3. sample_submissoin.csv : 제출 양식\n",
        " - id : 샘플 아이디\n",
        " - Body Mass (g) : 펭귄의 몸무게를 나타내는 숫자 (g)\n",
        "\n",
        "\n",
        "\n",
        "\n",
        "## 데이터 상세 설명\n",
        " - 성인 Adélie, Chinstrap 및 Gentoo 펭귄의 둥지 관찰, 펭귄 크기 데이터 및 혈액 샘플의 동위원소 측정을 포함한 데이터입니다.\n",
        " - 남극의 Palmer Station 근처 Palmer 군도에 있는 섬에서 관찰된 Adélie, chinstrap, Gentoo 펭귄의 먹이를 찾는 성체의 크기 측정, 클러치 관찰 및 혈액 동위원소 비율. \n",
        " - 데이터는 Kristen Gor man 박사와 Palmer Station Long Term Ecological Research(LTER) 프로그램에 의해 수집되어 제공되었습니다.\n",
        " - 출처: https://allisonhorst.github.io/palmerpenguins/\n"
      ],
      "metadata": {
        "id": "oIf9e2F5EwDh"
      }
    },
    {
      "cell_type": "code",
      "source": [
        "from google.colab import files\n",
        "file_uploaded = files.upload()"
      ],
      "metadata": {
        "colab": {
          "resources": {
            "http://localhost:8080/nbextensions/google.colab/files.js": {
              "data": "Ly8gQ29weXJpZ2h0IDIwMTcgR29vZ2xlIExMQwovLwovLyBMaWNlbnNlZCB1bmRlciB0aGUgQXBhY2hlIExpY2Vuc2UsIFZlcnNpb24gMi4wICh0aGUgIkxpY2Vuc2UiKTsKLy8geW91IG1heSBub3QgdXNlIHRoaXMgZmlsZSBleGNlcHQgaW4gY29tcGxpYW5jZSB3aXRoIHRoZSBMaWNlbnNlLgovLyBZb3UgbWF5IG9idGFpbiBhIGNvcHkgb2YgdGhlIExpY2Vuc2UgYXQKLy8KLy8gICAgICBodHRwOi8vd3d3LmFwYWNoZS5vcmcvbGljZW5zZXMvTElDRU5TRS0yLjAKLy8KLy8gVW5sZXNzIHJlcXVpcmVkIGJ5IGFwcGxpY2FibGUgbGF3IG9yIGFncmVlZCB0byBpbiB3cml0aW5nLCBzb2Z0d2FyZQovLyBkaXN0cmlidXRlZCB1bmRlciB0aGUgTGljZW5zZSBpcyBkaXN0cmlidXRlZCBvbiBhbiAiQVMgSVMiIEJBU0lTLAovLyBXSVRIT1VUIFdBUlJBTlRJRVMgT1IgQ09ORElUSU9OUyBPRiBBTlkgS0lORCwgZWl0aGVyIGV4cHJlc3Mgb3IgaW1wbGllZC4KLy8gU2VlIHRoZSBMaWNlbnNlIGZvciB0aGUgc3BlY2lmaWMgbGFuZ3VhZ2UgZ292ZXJuaW5nIHBlcm1pc3Npb25zIGFuZAovLyBsaW1pdGF0aW9ucyB1bmRlciB0aGUgTGljZW5zZS4KCi8qKgogKiBAZmlsZW92ZXJ2aWV3IEhlbHBlcnMgZm9yIGdvb2dsZS5jb2xhYiBQeXRob24gbW9kdWxlLgogKi8KKGZ1bmN0aW9uKHNjb3BlKSB7CmZ1bmN0aW9uIHNwYW4odGV4dCwgc3R5bGVBdHRyaWJ1dGVzID0ge30pIHsKICBjb25zdCBlbGVtZW50ID0gZG9jdW1lbnQuY3JlYXRlRWxlbWVudCgnc3BhbicpOwogIGVsZW1lbnQudGV4dENvbnRlbnQgPSB0ZXh0OwogIGZvciAoY29uc3Qga2V5IG9mIE9iamVjdC5rZXlzKHN0eWxlQXR0cmlidXRlcykpIHsKICAgIGVsZW1lbnQuc3R5bGVba2V5XSA9IHN0eWxlQXR0cmlidXRlc1trZXldOwogIH0KICByZXR1cm4gZWxlbWVudDsKfQoKLy8gTWF4IG51bWJlciBvZiBieXRlcyB3aGljaCB3aWxsIGJlIHVwbG9hZGVkIGF0IGEgdGltZS4KY29uc3QgTUFYX1BBWUxPQURfU0laRSA9IDEwMCAqIDEwMjQ7CgpmdW5jdGlvbiBfdXBsb2FkRmlsZXMoaW5wdXRJZCwgb3V0cHV0SWQpIHsKICBjb25zdCBzdGVwcyA9IHVwbG9hZEZpbGVzU3RlcChpbnB1dElkLCBvdXRwdXRJZCk7CiAgY29uc3Qgb3V0cHV0RWxlbWVudCA9IGRvY3VtZW50LmdldEVsZW1lbnRCeUlkKG91dHB1dElkKTsKICAvLyBDYWNoZSBzdGVwcyBvbiB0aGUgb3V0cHV0RWxlbWVudCB0byBtYWtlIGl0IGF2YWlsYWJsZSBmb3IgdGhlIG5leHQgY2FsbAogIC8vIHRvIHVwbG9hZEZpbGVzQ29udGludWUgZnJvbSBQeXRob24uCiAgb3V0cHV0RWxlbWVudC5zdGVwcyA9IHN0ZXBzOwoKICByZXR1cm4gX3VwbG9hZEZpbGVzQ29udGludWUob3V0cHV0SWQpOwp9CgovLyBUaGlzIGlzIHJvdWdobHkgYW4gYXN5bmMgZ2VuZXJhdG9yIChub3Qgc3VwcG9ydGVkIGluIHRoZSBicm93c2VyIHlldCksCi8vIHdoZXJlIHRoZXJlIGFyZSBtdWx0aXBsZSBhc3luY2hyb25vdXMgc3RlcHMgYW5kIHRoZSBQeXRob24gc2lkZSBpcyBnb2luZwovLyB0byBwb2xsIGZvciBjb21wbGV0aW9uIG9mIGVhY2ggc3RlcC4KLy8gVGhpcyB1c2VzIGEgUHJvbWlzZSB0byBibG9jayB0aGUgcHl0aG9uIHNpZGUgb24gY29tcGxldGlvbiBvZiBlYWNoIHN0ZXAsCi8vIHRoZW4gcGFzc2VzIHRoZSByZXN1bHQgb2YgdGhlIHByZXZpb3VzIHN0ZXAgYXMgdGhlIGlucHV0IHRvIHRoZSBuZXh0IHN0ZXAuCmZ1bmN0aW9uIF91cGxvYWRGaWxlc0NvbnRpbnVlKG91dHB1dElkKSB7CiAgY29uc3Qgb3V0cHV0RWxlbWVudCA9IGRvY3VtZW50LmdldEVsZW1lbnRCeUlkKG91dHB1dElkKTsKICBjb25zdCBzdGVwcyA9IG91dHB1dEVsZW1lbnQuc3RlcHM7CgogIGNvbnN0IG5leHQgPSBzdGVwcy5uZXh0KG91dHB1dEVsZW1lbnQubGFzdFByb21pc2VWYWx1ZSk7CiAgcmV0dXJuIFByb21pc2UucmVzb2x2ZShuZXh0LnZhbHVlLnByb21pc2UpLnRoZW4oKHZhbHVlKSA9PiB7CiAgICAvLyBDYWNoZSB0aGUgbGFzdCBwcm9taXNlIHZhbHVlIHRvIG1ha2UgaXQgYXZhaWxhYmxlIHRvIHRoZSBuZXh0CiAgICAvLyBzdGVwIG9mIHRoZSBnZW5lcmF0b3IuCiAgICBvdXRwdXRFbGVtZW50Lmxhc3RQcm9taXNlVmFsdWUgPSB2YWx1ZTsKICAgIHJldHVybiBuZXh0LnZhbHVlLnJlc3BvbnNlOwogIH0pOwp9CgovKioKICogR2VuZXJhdG9yIGZ1bmN0aW9uIHdoaWNoIGlzIGNhbGxlZCBiZXR3ZWVuIGVhY2ggYXN5bmMgc3RlcCBvZiB0aGUgdXBsb2FkCiAqIHByb2Nlc3MuCiAqIEBwYXJhbSB7c3RyaW5nfSBpbnB1dElkIEVsZW1lbnQgSUQgb2YgdGhlIGlucHV0IGZpbGUgcGlja2VyIGVsZW1lbnQuCiAqIEBwYXJhbSB7c3RyaW5nfSBvdXRwdXRJZCBFbGVtZW50IElEIG9mIHRoZSBvdXRwdXQgZGlzcGxheS4KICogQHJldHVybiB7IUl0ZXJhYmxlPCFPYmplY3Q+fSBJdGVyYWJsZSBvZiBuZXh0IHN0ZXBzLgogKi8KZnVuY3Rpb24qIHVwbG9hZEZpbGVzU3RlcChpbnB1dElkLCBvdXRwdXRJZCkgewogIGNvbnN0IGlucHV0RWxlbWVudCA9IGRvY3VtZW50LmdldEVsZW1lbnRCeUlkKGlucHV0SWQpOwogIGlucHV0RWxlbWVudC5kaXNhYmxlZCA9IGZhbHNlOwoKICBjb25zdCBvdXRwdXRFbGVtZW50ID0gZG9jdW1lbnQuZ2V0RWxlbWVudEJ5SWQob3V0cHV0SWQpOwogIG91dHB1dEVsZW1lbnQuaW5uZXJIVE1MID0gJyc7CgogIGNvbnN0IHBpY2tlZFByb21pc2UgPSBuZXcgUHJvbWlzZSgocmVzb2x2ZSkgPT4gewogICAgaW5wdXRFbGVtZW50LmFkZEV2ZW50TGlzdGVuZXIoJ2NoYW5nZScsIChlKSA9PiB7CiAgICAgIHJlc29sdmUoZS50YXJnZXQuZmlsZXMpOwogICAgfSk7CiAgfSk7CgogIGNvbnN0IGNhbmNlbCA9IGRvY3VtZW50LmNyZWF0ZUVsZW1lbnQoJ2J1dHRvbicpOwogIGlucHV0RWxlbWVudC5wYXJlbnRFbGVtZW50LmFwcGVuZENoaWxkKGNhbmNlbCk7CiAgY2FuY2VsLnRleHRDb250ZW50ID0gJ0NhbmNlbCB1cGxvYWQnOwogIGNvbnN0IGNhbmNlbFByb21pc2UgPSBuZXcgUHJvbWlzZSgocmVzb2x2ZSkgPT4gewogICAgY2FuY2VsLm9uY2xpY2sgPSAoKSA9PiB7CiAgICAgIHJlc29sdmUobnVsbCk7CiAgICB9OwogIH0pOwoKICAvLyBXYWl0IGZvciB0aGUgdXNlciB0byBwaWNrIHRoZSBmaWxlcy4KICBjb25zdCBmaWxlcyA9IHlpZWxkIHsKICAgIHByb21pc2U6IFByb21pc2UucmFjZShbcGlja2VkUHJvbWlzZSwgY2FuY2VsUHJvbWlzZV0pLAogICAgcmVzcG9uc2U6IHsKICAgICAgYWN0aW9uOiAnc3RhcnRpbmcnLAogICAgfQogIH07CgogIGNhbmNlbC5yZW1vdmUoKTsKCiAgLy8gRGlzYWJsZSB0aGUgaW5wdXQgZWxlbWVudCBzaW5jZSBmdXJ0aGVyIHBpY2tzIGFyZSBub3QgYWxsb3dlZC4KICBpbnB1dEVsZW1lbnQuZGlzYWJsZWQgPSB0cnVlOwoKICBpZiAoIWZpbGVzKSB7CiAgICByZXR1cm4gewogICAgICByZXNwb25zZTogewogICAgICAgIGFjdGlvbjogJ2NvbXBsZXRlJywKICAgICAgfQogICAgfTsKICB9CgogIGZvciAoY29uc3QgZmlsZSBvZiBmaWxlcykgewogICAgY29uc3QgbGkgPSBkb2N1bWVudC5jcmVhdGVFbGVtZW50KCdsaScpOwogICAgbGkuYXBwZW5kKHNwYW4oZmlsZS5uYW1lLCB7Zm9udFdlaWdodDogJ2JvbGQnfSkpOwogICAgbGkuYXBwZW5kKHNwYW4oCiAgICAgICAgYCgke2ZpbGUudHlwZSB8fCAnbi9hJ30pIC0gJHtmaWxlLnNpemV9IGJ5dGVzLCBgICsKICAgICAgICBgbGFzdCBtb2RpZmllZDogJHsKICAgICAgICAgICAgZmlsZS5sYXN0TW9kaWZpZWREYXRlID8gZmlsZS5sYXN0TW9kaWZpZWREYXRlLnRvTG9jYWxlRGF0ZVN0cmluZygpIDoKICAgICAgICAgICAgICAgICAgICAgICAgICAgICAgICAgICAgJ24vYSd9IC0gYCkpOwogICAgY29uc3QgcGVyY2VudCA9IHNwYW4oJzAlIGRvbmUnKTsKICAgIGxpLmFwcGVuZENoaWxkKHBlcmNlbnQpOwoKICAgIG91dHB1dEVsZW1lbnQuYXBwZW5kQ2hpbGQobGkpOwoKICAgIGNvbnN0IGZpbGVEYXRhUHJvbWlzZSA9IG5ldyBQcm9taXNlKChyZXNvbHZlKSA9PiB7CiAgICAgIGNvbnN0IHJlYWRlciA9IG5ldyBGaWxlUmVhZGVyKCk7CiAgICAgIHJlYWRlci5vbmxvYWQgPSAoZSkgPT4gewogICAgICAgIHJlc29sdmUoZS50YXJnZXQucmVzdWx0KTsKICAgICAgfTsKICAgICAgcmVhZGVyLnJlYWRBc0FycmF5QnVmZmVyKGZpbGUpOwogICAgfSk7CiAgICAvLyBXYWl0IGZvciB0aGUgZGF0YSB0byBiZSByZWFkeS4KICAgIGxldCBmaWxlRGF0YSA9IHlpZWxkIHsKICAgICAgcHJvbWlzZTogZmlsZURhdGFQcm9taXNlLAogICAgICByZXNwb25zZTogewogICAgICAgIGFjdGlvbjogJ2NvbnRpbnVlJywKICAgICAgfQogICAgfTsKCiAgICAvLyBVc2UgYSBjaHVua2VkIHNlbmRpbmcgdG8gYXZvaWQgbWVzc2FnZSBzaXplIGxpbWl0cy4gU2VlIGIvNjIxMTU2NjAuCiAgICBsZXQgcG9zaXRpb24gPSAwOwogICAgZG8gewogICAgICBjb25zdCBsZW5ndGggPSBNYXRoLm1pbihmaWxlRGF0YS5ieXRlTGVuZ3RoIC0gcG9zaXRpb24sIE1BWF9QQVlMT0FEX1NJWkUpOwogICAgICBjb25zdCBjaHVuayA9IG5ldyBVaW50OEFycmF5KGZpbGVEYXRhLCBwb3NpdGlvbiwgbGVuZ3RoKTsKICAgICAgcG9zaXRpb24gKz0gbGVuZ3RoOwoKICAgICAgY29uc3QgYmFzZTY0ID0gYnRvYShTdHJpbmcuZnJvbUNoYXJDb2RlLmFwcGx5KG51bGwsIGNodW5rKSk7CiAgICAgIHlpZWxkIHsKICAgICAgICByZXNwb25zZTogewogICAgICAgICAgYWN0aW9uOiAnYXBwZW5kJywKICAgICAgICAgIGZpbGU6IGZpbGUubmFtZSwKICAgICAgICAgIGRhdGE6IGJhc2U2NCwKICAgICAgICB9LAogICAgICB9OwoKICAgICAgbGV0IHBlcmNlbnREb25lID0gZmlsZURhdGEuYnl0ZUxlbmd0aCA9PT0gMCA/CiAgICAgICAgICAxMDAgOgogICAgICAgICAgTWF0aC5yb3VuZCgocG9zaXRpb24gLyBmaWxlRGF0YS5ieXRlTGVuZ3RoKSAqIDEwMCk7CiAgICAgIHBlcmNlbnQudGV4dENvbnRlbnQgPSBgJHtwZXJjZW50RG9uZX0lIGRvbmVgOwoKICAgIH0gd2hpbGUgKHBvc2l0aW9uIDwgZmlsZURhdGEuYnl0ZUxlbmd0aCk7CiAgfQoKICAvLyBBbGwgZG9uZS4KICB5aWVsZCB7CiAgICByZXNwb25zZTogewogICAgICBhY3Rpb246ICdjb21wbGV0ZScsCiAgICB9CiAgfTsKfQoKc2NvcGUuZ29vZ2xlID0gc2NvcGUuZ29vZ2xlIHx8IHt9OwpzY29wZS5nb29nbGUuY29sYWIgPSBzY29wZS5nb29nbGUuY29sYWIgfHwge307CnNjb3BlLmdvb2dsZS5jb2xhYi5fZmlsZXMgPSB7CiAgX3VwbG9hZEZpbGVzLAogIF91cGxvYWRGaWxlc0NvbnRpbnVlLAp9Owp9KShzZWxmKTsK",
              "ok": true,
              "headers": [
                [
                  "content-type",
                  "application/javascript"
                ]
              ],
              "status": 200,
              "status_text": ""
            }
          },
          "base_uri": "https://localhost:8080/",
          "height": 59
        },
        "id": "x6m1755EE48Y",
        "outputId": "423c0026-024a-411a-c5da-616aeabd9e6a"
      },
      "execution_count": 1,
      "outputs": [
        {
          "output_type": "display_data",
          "data": {
            "text/html": [
              "\n",
              "     <input type=\"file\" id=\"files-5d73c8da-28ca-4fe5-bbf8-c4861957a0b1\" name=\"files[]\" multiple disabled\n",
              "        style=\"border:none\" />\n",
              "     <output id=\"result-5d73c8da-28ca-4fe5-bbf8-c4861957a0b1\">\n",
              "      Upload widget is only available when the cell has been executed in the\n",
              "      current browser session. Please rerun this cell to enable.\n",
              "      </output>\n",
              "      <script src=\"/nbextensions/google.colab/files.js\"></script> "
            ],
            "text/plain": [
              "<IPython.core.display.HTML object>"
            ]
          },
          "metadata": {}
        },
        {
          "output_type": "stream",
          "name": "stdout",
          "text": [
            "Saving dataset.zip to dataset.zip\n"
          ]
        }
      ]
    },
    {
      "cell_type": "code",
      "source": [
        "!unzip dataset.zip"
      ],
      "metadata": {
        "colab": {
          "base_uri": "https://localhost:8080/"
        },
        "id": "b8ghWkx8Gy3_",
        "outputId": "e9028b40-2471-44d1-edb8-a87627aab123"
      },
      "execution_count": 2,
      "outputs": [
        {
          "output_type": "stream",
          "name": "stdout",
          "text": [
            "Archive:  dataset.zip\n",
            "  inflating: sample_submission.csv   \n",
            "  inflating: test.csv                \n",
            "  inflating: train.csv               \n"
          ]
        }
      ]
    },
    {
      "cell_type": "code",
      "source": [
        "import pandas as pd"
      ],
      "metadata": {
        "id": "3mZ8yQn_IFaX"
      },
      "execution_count": 3,
      "outputs": []
    },
    {
      "cell_type": "code",
      "source": [
        "train=pd.read_csv('train.csv')\n",
        "test=pd.read_csv('test.csv')\n",
        "\n",
        "train.head()"
      ],
      "metadata": {
        "colab": {
          "base_uri": "https://localhost:8080/",
          "height": 354
        },
        "id": "yZEHDnhLH3G9",
        "outputId": "ed9a6e19-f0c5-45c3-bc5a-fb85f7b312be"
      },
      "execution_count": 131,
      "outputs": [
        {
          "output_type": "execute_result",
          "data": {
            "text/html": [
              "\n",
              "  <div id=\"df-04bb8082-a92d-4258-8268-762cd2132faa\">\n",
              "    <div class=\"colab-df-container\">\n",
              "      <div>\n",
              "<style scoped>\n",
              "    .dataframe tbody tr th:only-of-type {\n",
              "        vertical-align: middle;\n",
              "    }\n",
              "\n",
              "    .dataframe tbody tr th {\n",
              "        vertical-align: top;\n",
              "    }\n",
              "\n",
              "    .dataframe thead th {\n",
              "        text-align: right;\n",
              "    }\n",
              "</style>\n",
              "<table border=\"1\" class=\"dataframe\">\n",
              "  <thead>\n",
              "    <tr style=\"text-align: right;\">\n",
              "      <th></th>\n",
              "      <th>id</th>\n",
              "      <th>Species</th>\n",
              "      <th>Island</th>\n",
              "      <th>Clutch Completion</th>\n",
              "      <th>Culmen Length (mm)</th>\n",
              "      <th>Culmen Depth (mm)</th>\n",
              "      <th>Flipper Length (mm)</th>\n",
              "      <th>Sex</th>\n",
              "      <th>Delta 15 N (o/oo)</th>\n",
              "      <th>Delta 13 C (o/oo)</th>\n",
              "      <th>Body Mass (g)</th>\n",
              "    </tr>\n",
              "  </thead>\n",
              "  <tbody>\n",
              "    <tr>\n",
              "      <th>0</th>\n",
              "      <td>0</td>\n",
              "      <td>Gentoo penguin (Pygoscelis papua)</td>\n",
              "      <td>Biscoe</td>\n",
              "      <td>Yes</td>\n",
              "      <td>50.0</td>\n",
              "      <td>15.3</td>\n",
              "      <td>220</td>\n",
              "      <td>MALE</td>\n",
              "      <td>8.30515</td>\n",
              "      <td>-25.19017</td>\n",
              "      <td>5550</td>\n",
              "    </tr>\n",
              "    <tr>\n",
              "      <th>1</th>\n",
              "      <td>1</td>\n",
              "      <td>Chinstrap penguin (Pygoscelis antarctica)</td>\n",
              "      <td>Dream</td>\n",
              "      <td>No</td>\n",
              "      <td>49.5</td>\n",
              "      <td>19.0</td>\n",
              "      <td>200</td>\n",
              "      <td>MALE</td>\n",
              "      <td>9.63074</td>\n",
              "      <td>-24.34684</td>\n",
              "      <td>3800</td>\n",
              "    </tr>\n",
              "    <tr>\n",
              "      <th>2</th>\n",
              "      <td>2</td>\n",
              "      <td>Gentoo penguin (Pygoscelis papua)</td>\n",
              "      <td>Biscoe</td>\n",
              "      <td>Yes</td>\n",
              "      <td>45.1</td>\n",
              "      <td>14.4</td>\n",
              "      <td>210</td>\n",
              "      <td>FEMALE</td>\n",
              "      <td>8.51951</td>\n",
              "      <td>-27.01854</td>\n",
              "      <td>4400</td>\n",
              "    </tr>\n",
              "    <tr>\n",
              "      <th>3</th>\n",
              "      <td>3</td>\n",
              "      <td>Gentoo penguin (Pygoscelis papua)</td>\n",
              "      <td>Biscoe</td>\n",
              "      <td>Yes</td>\n",
              "      <td>44.5</td>\n",
              "      <td>14.7</td>\n",
              "      <td>214</td>\n",
              "      <td>FEMALE</td>\n",
              "      <td>8.20106</td>\n",
              "      <td>-26.16524</td>\n",
              "      <td>4850</td>\n",
              "    </tr>\n",
              "    <tr>\n",
              "      <th>4</th>\n",
              "      <td>4</td>\n",
              "      <td>Gentoo penguin (Pygoscelis papua)</td>\n",
              "      <td>Biscoe</td>\n",
              "      <td>No</td>\n",
              "      <td>49.6</td>\n",
              "      <td>16.0</td>\n",
              "      <td>225</td>\n",
              "      <td>MALE</td>\n",
              "      <td>8.38324</td>\n",
              "      <td>-26.84272</td>\n",
              "      <td>5700</td>\n",
              "    </tr>\n",
              "  </tbody>\n",
              "</table>\n",
              "</div>\n",
              "      <button class=\"colab-df-convert\" onclick=\"convertToInteractive('df-04bb8082-a92d-4258-8268-762cd2132faa')\"\n",
              "              title=\"Convert this dataframe to an interactive table.\"\n",
              "              style=\"display:none;\">\n",
              "        \n",
              "  <svg xmlns=\"http://www.w3.org/2000/svg\" height=\"24px\"viewBox=\"0 0 24 24\"\n",
              "       width=\"24px\">\n",
              "    <path d=\"M0 0h24v24H0V0z\" fill=\"none\"/>\n",
              "    <path d=\"M18.56 5.44l.94 2.06.94-2.06 2.06-.94-2.06-.94-.94-2.06-.94 2.06-2.06.94zm-11 1L8.5 8.5l.94-2.06 2.06-.94-2.06-.94L8.5 2.5l-.94 2.06-2.06.94zm10 10l.94 2.06.94-2.06 2.06-.94-2.06-.94-.94-2.06-.94 2.06-2.06.94z\"/><path d=\"M17.41 7.96l-1.37-1.37c-.4-.4-.92-.59-1.43-.59-.52 0-1.04.2-1.43.59L10.3 9.45l-7.72 7.72c-.78.78-.78 2.05 0 2.83L4 21.41c.39.39.9.59 1.41.59.51 0 1.02-.2 1.41-.59l7.78-7.78 2.81-2.81c.8-.78.8-2.07 0-2.86zM5.41 20L4 18.59l7.72-7.72 1.47 1.35L5.41 20z\"/>\n",
              "  </svg>\n",
              "      </button>\n",
              "      \n",
              "  <style>\n",
              "    .colab-df-container {\n",
              "      display:flex;\n",
              "      flex-wrap:wrap;\n",
              "      gap: 12px;\n",
              "    }\n",
              "\n",
              "    .colab-df-convert {\n",
              "      background-color: #E8F0FE;\n",
              "      border: none;\n",
              "      border-radius: 50%;\n",
              "      cursor: pointer;\n",
              "      display: none;\n",
              "      fill: #1967D2;\n",
              "      height: 32px;\n",
              "      padding: 0 0 0 0;\n",
              "      width: 32px;\n",
              "    }\n",
              "\n",
              "    .colab-df-convert:hover {\n",
              "      background-color: #E2EBFA;\n",
              "      box-shadow: 0px 1px 2px rgba(60, 64, 67, 0.3), 0px 1px 3px 1px rgba(60, 64, 67, 0.15);\n",
              "      fill: #174EA6;\n",
              "    }\n",
              "\n",
              "    [theme=dark] .colab-df-convert {\n",
              "      background-color: #3B4455;\n",
              "      fill: #D2E3FC;\n",
              "    }\n",
              "\n",
              "    [theme=dark] .colab-df-convert:hover {\n",
              "      background-color: #434B5C;\n",
              "      box-shadow: 0px 1px 3px 1px rgba(0, 0, 0, 0.15);\n",
              "      filter: drop-shadow(0px 1px 2px rgba(0, 0, 0, 0.3));\n",
              "      fill: #FFFFFF;\n",
              "    }\n",
              "  </style>\n",
              "\n",
              "      <script>\n",
              "        const buttonEl =\n",
              "          document.querySelector('#df-04bb8082-a92d-4258-8268-762cd2132faa button.colab-df-convert');\n",
              "        buttonEl.style.display =\n",
              "          google.colab.kernel.accessAllowed ? 'block' : 'none';\n",
              "\n",
              "        async function convertToInteractive(key) {\n",
              "          const element = document.querySelector('#df-04bb8082-a92d-4258-8268-762cd2132faa');\n",
              "          const dataTable =\n",
              "            await google.colab.kernel.invokeFunction('convertToInteractive',\n",
              "                                                     [key], {});\n",
              "          if (!dataTable) return;\n",
              "\n",
              "          const docLinkHtml = 'Like what you see? Visit the ' +\n",
              "            '<a target=\"_blank\" href=https://colab.research.google.com/notebooks/data_table.ipynb>data table notebook</a>'\n",
              "            + ' to learn more about interactive tables.';\n",
              "          element.innerHTML = '';\n",
              "          dataTable['output_type'] = 'display_data';\n",
              "          await google.colab.output.renderOutput(dataTable, element);\n",
              "          const docLink = document.createElement('div');\n",
              "          docLink.innerHTML = docLinkHtml;\n",
              "          element.appendChild(docLink);\n",
              "        }\n",
              "      </script>\n",
              "    </div>\n",
              "  </div>\n",
              "  "
            ],
            "text/plain": [
              "   id  ... Body Mass (g)\n",
              "0   0  ...          5550\n",
              "1   1  ...          3800\n",
              "2   2  ...          4400\n",
              "3   3  ...          4850\n",
              "4   4  ...          5700\n",
              "\n",
              "[5 rows x 11 columns]"
            ]
          },
          "metadata": {},
          "execution_count": 131
        }
      ]
    },
    {
      "cell_type": "markdown",
      "source": [
        "---\n",
        "## EDA"
      ],
      "metadata": {
        "id": "_3Q9zfPZNSSi"
      }
    },
    {
      "cell_type": "code",
      "source": [
        "print(train.shape)\n",
        "print(test.shape)"
      ],
      "metadata": {
        "colab": {
          "base_uri": "https://localhost:8080/"
        },
        "id": "A2KrU-cIIRCp",
        "outputId": "ece3134f-f980-428a-b7f6-6dc85e1bf60d"
      },
      "execution_count": 5,
      "outputs": [
        {
          "output_type": "stream",
          "name": "stdout",
          "text": [
            "(114, 11)\n",
            "(228, 10)\n"
          ]
        }
      ]
    },
    {
      "cell_type": "markdown",
      "source": [
        "species, island, clutch completion, sex 컬럼이 명목변수로 설정되어 있음"
      ],
      "metadata": {
        "id": "1UklbhbkJtrv"
      }
    },
    {
      "cell_type": "code",
      "source": [
        "train.info()"
      ],
      "metadata": {
        "colab": {
          "base_uri": "https://localhost:8080/"
        },
        "id": "6vvmZZn_JoGV",
        "outputId": "274e56c7-1124-4c29-feeb-c3a7da35afe1"
      },
      "execution_count": null,
      "outputs": [
        {
          "output_type": "stream",
          "name": "stdout",
          "text": [
            "<class 'pandas.core.frame.DataFrame'>\n",
            "RangeIndex: 114 entries, 0 to 113\n",
            "Data columns (total 11 columns):\n",
            " #   Column               Non-Null Count  Dtype  \n",
            "---  ------               --------------  -----  \n",
            " 0   id                   114 non-null    int64  \n",
            " 1   Species              114 non-null    object \n",
            " 2   Island               114 non-null    object \n",
            " 3   Clutch Completion    114 non-null    object \n",
            " 4   Culmen Length (mm)   114 non-null    float64\n",
            " 5   Culmen Depth (mm)    114 non-null    float64\n",
            " 6   Flipper Length (mm)  114 non-null    int64  \n",
            " 7   Sex                  111 non-null    object \n",
            " 8   Delta 15 N (o/oo)    111 non-null    float64\n",
            " 9   Delta 13 C (o/oo)    111 non-null    float64\n",
            " 10  Body Mass (g)        114 non-null    int64  \n",
            "dtypes: float64(4), int64(3), object(4)\n",
            "memory usage: 9.9+ KB\n"
          ]
        }
      ]
    },
    {
      "cell_type": "markdown",
      "source": [
        "describe로 데이터의 특징을 살펴본 결과 count에서 몇몇 값들이 비어있는 것을 확인"
      ],
      "metadata": {
        "id": "eO3Rkc_5JSa1"
      }
    },
    {
      "cell_type": "code",
      "source": [
        "train.describe()"
      ],
      "metadata": {
        "colab": {
          "base_uri": "https://localhost:8080/",
          "height": 300
        },
        "id": "6KZNzchlIVHx",
        "outputId": "84b9a43a-c5c9-4a53-8b6e-5591c4a48a19"
      },
      "execution_count": null,
      "outputs": [
        {
          "output_type": "execute_result",
          "data": {
            "text/html": [
              "\n",
              "  <div id=\"df-b299a549-e7f7-41e0-9eeb-a8a8d0762f84\">\n",
              "    <div class=\"colab-df-container\">\n",
              "      <div>\n",
              "<style scoped>\n",
              "    .dataframe tbody tr th:only-of-type {\n",
              "        vertical-align: middle;\n",
              "    }\n",
              "\n",
              "    .dataframe tbody tr th {\n",
              "        vertical-align: top;\n",
              "    }\n",
              "\n",
              "    .dataframe thead th {\n",
              "        text-align: right;\n",
              "    }\n",
              "</style>\n",
              "<table border=\"1\" class=\"dataframe\">\n",
              "  <thead>\n",
              "    <tr style=\"text-align: right;\">\n",
              "      <th></th>\n",
              "      <th>id</th>\n",
              "      <th>Culmen Length (mm)</th>\n",
              "      <th>Culmen Depth (mm)</th>\n",
              "      <th>Flipper Length (mm)</th>\n",
              "      <th>Delta 15 N (o/oo)</th>\n",
              "      <th>Delta 13 C (o/oo)</th>\n",
              "      <th>Body Mass (g)</th>\n",
              "    </tr>\n",
              "  </thead>\n",
              "  <tbody>\n",
              "    <tr>\n",
              "      <th>count</th>\n",
              "      <td>114.000000</td>\n",
              "      <td>114.000000</td>\n",
              "      <td>114.000000</td>\n",
              "      <td>114.000000</td>\n",
              "      <td>111.000000</td>\n",
              "      <td>111.000000</td>\n",
              "      <td>114.000000</td>\n",
              "    </tr>\n",
              "    <tr>\n",
              "      <th>mean</th>\n",
              "      <td>56.500000</td>\n",
              "      <td>44.613158</td>\n",
              "      <td>17.014912</td>\n",
              "      <td>203.052632</td>\n",
              "      <td>8.737634</td>\n",
              "      <td>-25.723051</td>\n",
              "      <td>4327.850877</td>\n",
              "    </tr>\n",
              "    <tr>\n",
              "      <th>std</th>\n",
              "      <td>33.052988</td>\n",
              "      <td>5.321829</td>\n",
              "      <td>1.941363</td>\n",
              "      <td>14.653425</td>\n",
              "      <td>0.567698</td>\n",
              "      <td>0.859786</td>\n",
              "      <td>781.766484</td>\n",
              "    </tr>\n",
              "    <tr>\n",
              "      <th>min</th>\n",
              "      <td>0.000000</td>\n",
              "      <td>33.500000</td>\n",
              "      <td>13.200000</td>\n",
              "      <td>174.000000</td>\n",
              "      <td>7.632200</td>\n",
              "      <td>-27.018540</td>\n",
              "      <td>2700.000000</td>\n",
              "    </tr>\n",
              "    <tr>\n",
              "      <th>25%</th>\n",
              "      <td>28.250000</td>\n",
              "      <td>40.325000</td>\n",
              "      <td>15.225000</td>\n",
              "      <td>190.000000</td>\n",
              "      <td>8.272585</td>\n",
              "      <td>-26.434025</td>\n",
              "      <td>3675.000000</td>\n",
              "    </tr>\n",
              "    <tr>\n",
              "      <th>50%</th>\n",
              "      <td>56.500000</td>\n",
              "      <td>45.200000</td>\n",
              "      <td>17.250000</td>\n",
              "      <td>199.000000</td>\n",
              "      <td>8.632590</td>\n",
              "      <td>-25.955410</td>\n",
              "      <td>4250.000000</td>\n",
              "    </tr>\n",
              "    <tr>\n",
              "      <th>75%</th>\n",
              "      <td>84.750000</td>\n",
              "      <td>49.075000</td>\n",
              "      <td>18.600000</td>\n",
              "      <td>216.000000</td>\n",
              "      <td>9.264635</td>\n",
              "      <td>-25.005945</td>\n",
              "      <td>4850.000000</td>\n",
              "    </tr>\n",
              "    <tr>\n",
              "      <th>max</th>\n",
              "      <td>113.000000</td>\n",
              "      <td>55.100000</td>\n",
              "      <td>21.100000</td>\n",
              "      <td>231.000000</td>\n",
              "      <td>10.025440</td>\n",
              "      <td>-24.102550</td>\n",
              "      <td>6300.000000</td>\n",
              "    </tr>\n",
              "  </tbody>\n",
              "</table>\n",
              "</div>\n",
              "      <button class=\"colab-df-convert\" onclick=\"convertToInteractive('df-b299a549-e7f7-41e0-9eeb-a8a8d0762f84')\"\n",
              "              title=\"Convert this dataframe to an interactive table.\"\n",
              "              style=\"display:none;\">\n",
              "        \n",
              "  <svg xmlns=\"http://www.w3.org/2000/svg\" height=\"24px\"viewBox=\"0 0 24 24\"\n",
              "       width=\"24px\">\n",
              "    <path d=\"M0 0h24v24H0V0z\" fill=\"none\"/>\n",
              "    <path d=\"M18.56 5.44l.94 2.06.94-2.06 2.06-.94-2.06-.94-.94-2.06-.94 2.06-2.06.94zm-11 1L8.5 8.5l.94-2.06 2.06-.94-2.06-.94L8.5 2.5l-.94 2.06-2.06.94zm10 10l.94 2.06.94-2.06 2.06-.94-2.06-.94-.94-2.06-.94 2.06-2.06.94z\"/><path d=\"M17.41 7.96l-1.37-1.37c-.4-.4-.92-.59-1.43-.59-.52 0-1.04.2-1.43.59L10.3 9.45l-7.72 7.72c-.78.78-.78 2.05 0 2.83L4 21.41c.39.39.9.59 1.41.59.51 0 1.02-.2 1.41-.59l7.78-7.78 2.81-2.81c.8-.78.8-2.07 0-2.86zM5.41 20L4 18.59l7.72-7.72 1.47 1.35L5.41 20z\"/>\n",
              "  </svg>\n",
              "      </button>\n",
              "      \n",
              "  <style>\n",
              "    .colab-df-container {\n",
              "      display:flex;\n",
              "      flex-wrap:wrap;\n",
              "      gap: 12px;\n",
              "    }\n",
              "\n",
              "    .colab-df-convert {\n",
              "      background-color: #E8F0FE;\n",
              "      border: none;\n",
              "      border-radius: 50%;\n",
              "      cursor: pointer;\n",
              "      display: none;\n",
              "      fill: #1967D2;\n",
              "      height: 32px;\n",
              "      padding: 0 0 0 0;\n",
              "      width: 32px;\n",
              "    }\n",
              "\n",
              "    .colab-df-convert:hover {\n",
              "      background-color: #E2EBFA;\n",
              "      box-shadow: 0px 1px 2px rgba(60, 64, 67, 0.3), 0px 1px 3px 1px rgba(60, 64, 67, 0.15);\n",
              "      fill: #174EA6;\n",
              "    }\n",
              "\n",
              "    [theme=dark] .colab-df-convert {\n",
              "      background-color: #3B4455;\n",
              "      fill: #D2E3FC;\n",
              "    }\n",
              "\n",
              "    [theme=dark] .colab-df-convert:hover {\n",
              "      background-color: #434B5C;\n",
              "      box-shadow: 0px 1px 3px 1px rgba(0, 0, 0, 0.15);\n",
              "      filter: drop-shadow(0px 1px 2px rgba(0, 0, 0, 0.3));\n",
              "      fill: #FFFFFF;\n",
              "    }\n",
              "  </style>\n",
              "\n",
              "      <script>\n",
              "        const buttonEl =\n",
              "          document.querySelector('#df-b299a549-e7f7-41e0-9eeb-a8a8d0762f84 button.colab-df-convert');\n",
              "        buttonEl.style.display =\n",
              "          google.colab.kernel.accessAllowed ? 'block' : 'none';\n",
              "\n",
              "        async function convertToInteractive(key) {\n",
              "          const element = document.querySelector('#df-b299a549-e7f7-41e0-9eeb-a8a8d0762f84');\n",
              "          const dataTable =\n",
              "            await google.colab.kernel.invokeFunction('convertToInteractive',\n",
              "                                                     [key], {});\n",
              "          if (!dataTable) return;\n",
              "\n",
              "          const docLinkHtml = 'Like what you see? Visit the ' +\n",
              "            '<a target=\"_blank\" href=https://colab.research.google.com/notebooks/data_table.ipynb>data table notebook</a>'\n",
              "            + ' to learn more about interactive tables.';\n",
              "          element.innerHTML = '';\n",
              "          dataTable['output_type'] = 'display_data';\n",
              "          await google.colab.output.renderOutput(dataTable, element);\n",
              "          const docLink = document.createElement('div');\n",
              "          docLink.innerHTML = docLinkHtml;\n",
              "          element.appendChild(docLink);\n",
              "        }\n",
              "      </script>\n",
              "    </div>\n",
              "  </div>\n",
              "  "
            ],
            "text/plain": [
              "               id  Culmen Length (mm)  ...  Delta 13 C (o/oo)  Body Mass (g)\n",
              "count  114.000000          114.000000  ...         111.000000     114.000000\n",
              "mean    56.500000           44.613158  ...         -25.723051    4327.850877\n",
              "std     33.052988            5.321829  ...           0.859786     781.766484\n",
              "min      0.000000           33.500000  ...         -27.018540    2700.000000\n",
              "25%     28.250000           40.325000  ...         -26.434025    3675.000000\n",
              "50%     56.500000           45.200000  ...         -25.955410    4250.000000\n",
              "75%     84.750000           49.075000  ...         -25.005945    4850.000000\n",
              "max    113.000000           55.100000  ...         -24.102550    6300.000000\n",
              "\n",
              "[8 rows x 7 columns]"
            ]
          },
          "metadata": {},
          "execution_count": 13
        }
      ]
    },
    {
      "cell_type": "code",
      "source": [
        "test.describe()"
      ],
      "metadata": {
        "colab": {
          "base_uri": "https://localhost:8080/",
          "height": 300
        },
        "id": "Caj0L4fbI9J4",
        "outputId": "ad95fd3f-867e-4007-a2d8-856cb8170807"
      },
      "execution_count": null,
      "outputs": [
        {
          "output_type": "execute_result",
          "data": {
            "text/html": [
              "\n",
              "  <div id=\"df-6aa428d3-95b4-4669-83e5-ea436fad5714\">\n",
              "    <div class=\"colab-df-container\">\n",
              "      <div>\n",
              "<style scoped>\n",
              "    .dataframe tbody tr th:only-of-type {\n",
              "        vertical-align: middle;\n",
              "    }\n",
              "\n",
              "    .dataframe tbody tr th {\n",
              "        vertical-align: top;\n",
              "    }\n",
              "\n",
              "    .dataframe thead th {\n",
              "        text-align: right;\n",
              "    }\n",
              "</style>\n",
              "<table border=\"1\" class=\"dataframe\">\n",
              "  <thead>\n",
              "    <tr style=\"text-align: right;\">\n",
              "      <th></th>\n",
              "      <th>id</th>\n",
              "      <th>Culmen Length (mm)</th>\n",
              "      <th>Culmen Depth (mm)</th>\n",
              "      <th>Flipper Length (mm)</th>\n",
              "      <th>Delta 15 N (o/oo)</th>\n",
              "      <th>Delta 13 C (o/oo)</th>\n",
              "    </tr>\n",
              "  </thead>\n",
              "  <tbody>\n",
              "    <tr>\n",
              "      <th>count</th>\n",
              "      <td>228.00000</td>\n",
              "      <td>228.000000</td>\n",
              "      <td>228.000000</td>\n",
              "      <td>228.000000</td>\n",
              "      <td>219.000000</td>\n",
              "      <td>220.000000</td>\n",
              "    </tr>\n",
              "    <tr>\n",
              "      <th>mean</th>\n",
              "      <td>113.50000</td>\n",
              "      <td>43.576316</td>\n",
              "      <td>17.219298</td>\n",
              "      <td>199.846491</td>\n",
              "      <td>8.731226</td>\n",
              "      <td>-25.667745</td>\n",
              "    </tr>\n",
              "    <tr>\n",
              "      <th>std</th>\n",
              "      <td>65.96211</td>\n",
              "      <td>5.506157</td>\n",
              "      <td>1.992027</td>\n",
              "      <td>13.663938</td>\n",
              "      <td>0.544827</td>\n",
              "      <td>0.759964</td>\n",
              "    </tr>\n",
              "    <tr>\n",
              "      <th>min</th>\n",
              "      <td>0.00000</td>\n",
              "      <td>32.100000</td>\n",
              "      <td>13.100000</td>\n",
              "      <td>172.000000</td>\n",
              "      <td>7.685280</td>\n",
              "      <td>-26.864850</td>\n",
              "    </tr>\n",
              "    <tr>\n",
              "      <th>25%</th>\n",
              "      <td>56.75000</td>\n",
              "      <td>38.900000</td>\n",
              "      <td>15.700000</td>\n",
              "      <td>189.750000</td>\n",
              "      <td>8.325385</td>\n",
              "      <td>-26.236812</td>\n",
              "    </tr>\n",
              "    <tr>\n",
              "      <th>50%</th>\n",
              "      <td>113.50000</td>\n",
              "      <td>43.250000</td>\n",
              "      <td>17.500000</td>\n",
              "      <td>196.000000</td>\n",
              "      <td>8.675380</td>\n",
              "      <td>-25.806100</td>\n",
              "    </tr>\n",
              "    <tr>\n",
              "      <th>75%</th>\n",
              "      <td>170.25000</td>\n",
              "      <td>48.100000</td>\n",
              "      <td>18.700000</td>\n",
              "      <td>212.000000</td>\n",
              "      <td>9.109330</td>\n",
              "      <td>-25.115125</td>\n",
              "    </tr>\n",
              "    <tr>\n",
              "      <th>max</th>\n",
              "      <td>227.00000</td>\n",
              "      <td>59.600000</td>\n",
              "      <td>21.500000</td>\n",
              "      <td>230.000000</td>\n",
              "      <td>10.023720</td>\n",
              "      <td>-23.787670</td>\n",
              "    </tr>\n",
              "  </tbody>\n",
              "</table>\n",
              "</div>\n",
              "      <button class=\"colab-df-convert\" onclick=\"convertToInteractive('df-6aa428d3-95b4-4669-83e5-ea436fad5714')\"\n",
              "              title=\"Convert this dataframe to an interactive table.\"\n",
              "              style=\"display:none;\">\n",
              "        \n",
              "  <svg xmlns=\"http://www.w3.org/2000/svg\" height=\"24px\"viewBox=\"0 0 24 24\"\n",
              "       width=\"24px\">\n",
              "    <path d=\"M0 0h24v24H0V0z\" fill=\"none\"/>\n",
              "    <path d=\"M18.56 5.44l.94 2.06.94-2.06 2.06-.94-2.06-.94-.94-2.06-.94 2.06-2.06.94zm-11 1L8.5 8.5l.94-2.06 2.06-.94-2.06-.94L8.5 2.5l-.94 2.06-2.06.94zm10 10l.94 2.06.94-2.06 2.06-.94-2.06-.94-.94-2.06-.94 2.06-2.06.94z\"/><path d=\"M17.41 7.96l-1.37-1.37c-.4-.4-.92-.59-1.43-.59-.52 0-1.04.2-1.43.59L10.3 9.45l-7.72 7.72c-.78.78-.78 2.05 0 2.83L4 21.41c.39.39.9.59 1.41.59.51 0 1.02-.2 1.41-.59l7.78-7.78 2.81-2.81c.8-.78.8-2.07 0-2.86zM5.41 20L4 18.59l7.72-7.72 1.47 1.35L5.41 20z\"/>\n",
              "  </svg>\n",
              "      </button>\n",
              "      \n",
              "  <style>\n",
              "    .colab-df-container {\n",
              "      display:flex;\n",
              "      flex-wrap:wrap;\n",
              "      gap: 12px;\n",
              "    }\n",
              "\n",
              "    .colab-df-convert {\n",
              "      background-color: #E8F0FE;\n",
              "      border: none;\n",
              "      border-radius: 50%;\n",
              "      cursor: pointer;\n",
              "      display: none;\n",
              "      fill: #1967D2;\n",
              "      height: 32px;\n",
              "      padding: 0 0 0 0;\n",
              "      width: 32px;\n",
              "    }\n",
              "\n",
              "    .colab-df-convert:hover {\n",
              "      background-color: #E2EBFA;\n",
              "      box-shadow: 0px 1px 2px rgba(60, 64, 67, 0.3), 0px 1px 3px 1px rgba(60, 64, 67, 0.15);\n",
              "      fill: #174EA6;\n",
              "    }\n",
              "\n",
              "    [theme=dark] .colab-df-convert {\n",
              "      background-color: #3B4455;\n",
              "      fill: #D2E3FC;\n",
              "    }\n",
              "\n",
              "    [theme=dark] .colab-df-convert:hover {\n",
              "      background-color: #434B5C;\n",
              "      box-shadow: 0px 1px 3px 1px rgba(0, 0, 0, 0.15);\n",
              "      filter: drop-shadow(0px 1px 2px rgba(0, 0, 0, 0.3));\n",
              "      fill: #FFFFFF;\n",
              "    }\n",
              "  </style>\n",
              "\n",
              "      <script>\n",
              "        const buttonEl =\n",
              "          document.querySelector('#df-6aa428d3-95b4-4669-83e5-ea436fad5714 button.colab-df-convert');\n",
              "        buttonEl.style.display =\n",
              "          google.colab.kernel.accessAllowed ? 'block' : 'none';\n",
              "\n",
              "        async function convertToInteractive(key) {\n",
              "          const element = document.querySelector('#df-6aa428d3-95b4-4669-83e5-ea436fad5714');\n",
              "          const dataTable =\n",
              "            await google.colab.kernel.invokeFunction('convertToInteractive',\n",
              "                                                     [key], {});\n",
              "          if (!dataTable) return;\n",
              "\n",
              "          const docLinkHtml = 'Like what you see? Visit the ' +\n",
              "            '<a target=\"_blank\" href=https://colab.research.google.com/notebooks/data_table.ipynb>data table notebook</a>'\n",
              "            + ' to learn more about interactive tables.';\n",
              "          element.innerHTML = '';\n",
              "          dataTable['output_type'] = 'display_data';\n",
              "          await google.colab.output.renderOutput(dataTable, element);\n",
              "          const docLink = document.createElement('div');\n",
              "          docLink.innerHTML = docLinkHtml;\n",
              "          element.appendChild(docLink);\n",
              "        }\n",
              "      </script>\n",
              "    </div>\n",
              "  </div>\n",
              "  "
            ],
            "text/plain": [
              "              id  Culmen Length (mm)  ...  Delta 15 N (o/oo)  Delta 13 C (o/oo)\n",
              "count  228.00000          228.000000  ...         219.000000         220.000000\n",
              "mean   113.50000           43.576316  ...           8.731226         -25.667745\n",
              "std     65.96211            5.506157  ...           0.544827           0.759964\n",
              "min      0.00000           32.100000  ...           7.685280         -26.864850\n",
              "25%     56.75000           38.900000  ...           8.325385         -26.236812\n",
              "50%    113.50000           43.250000  ...           8.675380         -25.806100\n",
              "75%    170.25000           48.100000  ...           9.109330         -25.115125\n",
              "max    227.00000           59.600000  ...          10.023720         -23.787670\n",
              "\n",
              "[8 rows x 6 columns]"
            ]
          },
          "metadata": {},
          "execution_count": 14
        }
      ]
    },
    {
      "cell_type": "markdown",
      "source": [
        "결측값은 sex, delta 15N, 13C 에서 확인된다."
      ],
      "metadata": {
        "id": "-anCrf_-J2fZ"
      }
    },
    {
      "cell_type": "code",
      "source": [
        "for col_name in train.columns:\n",
        "  nul_cnt=train[col_name].isnull().sum()\n",
        "  if nul_cnt != 0 :\n",
        "    print(col_name, ' : ',nul_cnt)"
      ],
      "metadata": {
        "colab": {
          "base_uri": "https://localhost:8080/"
        },
        "id": "j2Mq-wO-I-69",
        "outputId": "4c7ce1e6-9591-494a-952c-92eb24b6102f"
      },
      "execution_count": null,
      "outputs": [
        {
          "output_type": "stream",
          "name": "stdout",
          "text": [
            "Sex  :  3\n",
            "Delta 15 N (o/oo)  :  3\n",
            "Delta 13 C (o/oo)  :  3\n"
          ]
        }
      ]
    },
    {
      "cell_type": "code",
      "source": [
        "test.isnull().sum()"
      ],
      "metadata": {
        "colab": {
          "base_uri": "https://localhost:8080/"
        },
        "id": "DD148fxUJJCh",
        "outputId": "3b600ba5-fd63-4c36-f5cb-3d70fb731ec2"
      },
      "execution_count": null,
      "outputs": [
        {
          "output_type": "execute_result",
          "data": {
            "text/plain": [
              "id                     0\n",
              "Species                0\n",
              "Island                 0\n",
              "Clutch Completion      0\n",
              "Culmen Length (mm)     0\n",
              "Culmen Depth (mm)      0\n",
              "Flipper Length (mm)    0\n",
              "Sex                    6\n",
              "Delta 15 N (o/oo)      9\n",
              "Delta 13 C (o/oo)      8\n",
              "dtype: int64"
            ]
          },
          "metadata": {},
          "execution_count": 16
        }
      ]
    },
    {
      "cell_type": "code",
      "source": [
        "train['Island'].value_counts()"
      ],
      "metadata": {
        "colab": {
          "base_uri": "https://localhost:8080/"
        },
        "id": "CeTSlvgiJLHg",
        "outputId": "cb909a0a-d902-40a2-c80e-089459c2284e"
      },
      "execution_count": null,
      "outputs": [
        {
          "output_type": "execute_result",
          "data": {
            "text/plain": [
              "Biscoe       57\n",
              "Dream        44\n",
              "Torgersen    13\n",
              "Name: Island, dtype: int64"
            ]
          },
          "metadata": {},
          "execution_count": 24
        }
      ]
    },
    {
      "cell_type": "code",
      "source": [
        "test['Island'].value_counts()"
      ],
      "metadata": {
        "colab": {
          "base_uri": "https://localhost:8080/"
        },
        "id": "MBp-ChkbKhH3",
        "outputId": "2187c1e9-50b0-4c9b-b26d-4742fd7e7bbc"
      },
      "execution_count": null,
      "outputs": [
        {
          "output_type": "execute_result",
          "data": {
            "text/plain": [
              "Biscoe       110\n",
              "Dream         80\n",
              "Torgersen     38\n",
              "Name: Island, dtype: int64"
            ]
          },
          "metadata": {},
          "execution_count": 25
        }
      ]
    },
    {
      "cell_type": "code",
      "source": [
        "train['Species'].value_counts()"
      ],
      "metadata": {
        "colab": {
          "base_uri": "https://localhost:8080/"
        },
        "id": "J9itv8FOMlBE",
        "outputId": "039dc7a2-7a1c-43c3-bd9d-48979a458899"
      },
      "execution_count": null,
      "outputs": [
        {
          "output_type": "execute_result",
          "data": {
            "text/plain": [
              "Gentoo penguin (Pygoscelis papua)            48\n",
              "Adelie Penguin (Pygoscelis adeliae)          41\n",
              "Chinstrap penguin (Pygoscelis antarctica)    25\n",
              "Name: Species, dtype: int64"
            ]
          },
          "metadata": {},
          "execution_count": 26
        }
      ]
    },
    {
      "cell_type": "code",
      "source": [
        "test['Species'].value_counts()"
      ],
      "metadata": {
        "colab": {
          "base_uri": "https://localhost:8080/"
        },
        "id": "jJA8otOVM8nk",
        "outputId": "f253894c-5961-42a4-e63a-222955242f50"
      },
      "execution_count": null,
      "outputs": [
        {
          "output_type": "execute_result",
          "data": {
            "text/plain": [
              "Adelie Penguin (Pygoscelis adeliae)          110\n",
              "Gentoo penguin (Pygoscelis papua)             75\n",
              "Chinstrap penguin (Pygoscelis antarctica)     43\n",
              "Name: Species, dtype: int64"
            ]
          },
          "metadata": {},
          "execution_count": 27
        }
      ]
    },
    {
      "cell_type": "code",
      "source": [
        "import matplotlib.pyplot as plt\n",
        "import seaborn as sns"
      ],
      "metadata": {
        "id": "aSSAC3USlGWj"
      },
      "execution_count": 10,
      "outputs": []
    },
    {
      "cell_type": "code",
      "source": [
        "sns.displot(train['Body Mass (g)'],bins=10)"
      ],
      "metadata": {
        "colab": {
          "base_uri": "https://localhost:8080/",
          "height": 388
        },
        "id": "aMoL9FM7lVKb",
        "outputId": "f1e49ab8-79e3-4a23-f591-a2ba441c2a90"
      },
      "execution_count": null,
      "outputs": [
        {
          "output_type": "execute_result",
          "data": {
            "text/plain": [
              "<seaborn.axisgrid.FacetGrid at 0x7f9c72d46c50>"
            ]
          },
          "metadata": {},
          "execution_count": 39
        },
        {
          "output_type": "display_data",
          "data": {
            "image/png": "[encoded data removed]",
            "text/plain": [
              "<Figure size 360x360 with 1 Axes>"
            ]
          },
          "metadata": {
            "needs_background": "light"
          }
        }
      ]
    },
    {
      "cell_type": "code",
      "source": [
        "discrete_names = ['Species', 'Island', 'Clutch Completion', 'Sex']\n",
        "continuous_names = ['Culmen Length (mm)', 'Culmen Depth (mm)', 'Flipper Length (mm)', 'Delta 15 N (o/oo)', 'Delta 13 C (o/oo)']\n",
        "\n",
        "plt.figure(figsize=(20,15))\n",
        "for i in range(len(continuous_names)):\n",
        "  plt.subplot(2,3,i+1)\n",
        "  plt.title(continuous_names[i])\n",
        "  sns.boxplot(y=train[continuous_names[i]])\n",
        "\n",
        "plt.show()\n"
      ],
      "metadata": {
        "colab": {
          "base_uri": "https://localhost:8080/",
          "height": 866
        },
        "id": "atsFZyFgmbg_",
        "outputId": "59e4ca47-4c32-4dcc-a5b8-8e06fa3dd1ee"
      },
      "execution_count": null,
      "outputs": [
        {
          "output_type": "display_data",
          "data": {
            "image/png": "[encoded data removed]",
            "text/plain": [
              "<Figure size 1440x1080 with 5 Axes>"
            ]
          },
          "metadata": {
            "needs_background": "light"
          }
        }
      ]
    },
    {
      "cell_type": "code",
      "source": [
        "plt.figure(figsize=(20,15))\n",
        "for i in range(len(continuous_names)):\n",
        "  plt.subplot(2,3,i+1)\n",
        "  plt.title(continuous_names[i])\n",
        "  sns.histplot(train[continuous_names[i]],bins=10)\n",
        "\n",
        "plt.show()"
      ],
      "metadata": {
        "colab": {
          "base_uri": "https://localhost:8080/",
          "height": 893
        },
        "id": "LCjmAoSln7W8",
        "outputId": "bdc1e59c-468a-407f-a171-8fd24b6bf97d"
      },
      "execution_count": null,
      "outputs": [
        {
          "output_type": "display_data",
          "data": {
            "image/png": "[encoded data removed]",
            "text/plain": [
              "<Figure size 1440x1080 with 5 Axes>"
            ]
          },
          "metadata": {
            "needs_background": "light"
          }
        }
      ]
    },
    {
      "cell_type": "markdown",
      "source": [
        "결측치를 채우기 전에 명목형 변수들을 숫자형으로 처리한다.\n",
        "먼저 값을 채우기 위한 먼저 Sex, Clutch Completion은 LabelEncoder로 나머지 명목변수들은 OneHotEncoder로 바꿔준다."
      ],
      "metadata": {
        "id": "cMOOmhJSpYo8"
      }
    },
    {
      "cell_type": "code",
      "source": [
        "from sklearn.preprocessing import OneHotEncoder, LabelEncoder\n",
        "\n",
        "onehot=OneHotEncoder()\n",
        "onehot_species = pd.DataFrame(onehot.fit_transform(train[['Species']]).toarray(), columns = onehot.get_feature_names())\n",
        "train = pd.concat([train,onehot_species], axis = 1).drop(columns = ['Species'])\n",
        "onehot_species = pd.DataFrame(onehot.transform(test[['Species']]).toarray(), columns = onehot.get_feature_names())\n",
        "test = pd.concat([test,onehot_species], axis = 1).drop(columns = ['Species'])\n",
        "\n",
        "onehot=OneHotEncoder()\n",
        "onehot_island = pd.DataFrame(onehot.fit_transform(train[['Island']]).toarray(), columns = onehot.get_feature_names())\n",
        "train = pd.concat([train,onehot_island], axis = 1).drop(columns = ['Island'])\n",
        "onehot_island = pd.DataFrame(onehot.transform(test[['Island']]).toarray(), columns = onehot.get_feature_names())\n",
        "test = pd.concat([test,onehot_island], axis = 1).drop(columns = ['Island'])"
      ],
      "metadata": {
        "colab": {
          "base_uri": "https://localhost:8080/"
        },
        "id": "8DdUeIhhtSOY",
        "outputId": "4a747988-d56c-4e65-b7c7-f83584f35b94"
      },
      "execution_count": 132,
      "outputs": [
        {
          "output_type": "stream",
          "name": "stderr",
          "text": [
            "/usr/local/lib/python3.7/dist-packages/sklearn/utils/deprecation.py:87: FutureWarning: Function get_feature_names is deprecated; get_feature_names is deprecated in 1.0 and will be removed in 1.2. Please use get_feature_names_out instead.\n",
            "  warnings.warn(msg, category=FutureWarning)\n",
            "/usr/local/lib/python3.7/dist-packages/sklearn/utils/deprecation.py:87: FutureWarning: Function get_feature_names is deprecated; get_feature_names is deprecated in 1.0 and will be removed in 1.2. Please use get_feature_names_out instead.\n",
            "  warnings.warn(msg, category=FutureWarning)\n",
            "/usr/local/lib/python3.7/dist-packages/sklearn/utils/deprecation.py:87: FutureWarning: Function get_feature_names is deprecated; get_feature_names is deprecated in 1.0 and will be removed in 1.2. Please use get_feature_names_out instead.\n",
            "  warnings.warn(msg, category=FutureWarning)\n",
            "/usr/local/lib/python3.7/dist-packages/sklearn/utils/deprecation.py:87: FutureWarning: Function get_feature_names is deprecated; get_feature_names is deprecated in 1.0 and will be removed in 1.2. Please use get_feature_names_out instead.\n",
            "  warnings.warn(msg, category=FutureWarning)\n"
          ]
        }
      ]
    },
    {
      "cell_type": "code",
      "source": [
        "import numpy as np\n",
        "train['Sex']=np.where(train['Sex'].values=='MALE',1,np.where(train['Sex'].values=='FEMALE',0,np.nan))\n",
        "test['Sex']=np.where(test['Sex'].values=='MALE',1,np.where(test['Sex'].values=='FEMALE',0,np.nan))"
      ],
      "metadata": {
        "id": "w-85WhO6FdsB"
      },
      "execution_count": 133,
      "outputs": []
    },
    {
      "cell_type": "code",
      "source": [
        "#label=LabelEncoder()\n",
        "#label_sex = label.fit_transform(train['Sex'])\n",
        "#train['Sex']=label_sex\n",
        "\n",
        "label=LabelEncoder()\n",
        "label_clutch_completion=label.fit_transform(train['Clutch Completion'])\n",
        "train['Clutch Completion']=label_clutch_completion\n",
        "label_clutch_completion=label.transform(test['Clutch Completion'])\n",
        "test['Clutch Completion']=label_clutch_completion\n",
        "\n",
        "\n",
        "train"
      ],
      "metadata": {
        "colab": {
          "base_uri": "https://localhost:8080/",
          "height": 520
        },
        "id": "TDc8V4WY2vmN",
        "outputId": "f7abb4dd-5057-497c-b107-e4bd80aad341"
      },
      "execution_count": 134,
      "outputs": [
        {
          "output_type": "execute_result",
          "data": {
            "text/html": [
              "\n",
              "  <div id=\"df-b454dbfd-ca90-49bb-9e93-d0b72305edd0\">\n",
              "    <div class=\"colab-df-container\">\n",
              "      <div>\n",
              "<style scoped>\n",
              "    .dataframe tbody tr th:only-of-type {\n",
              "        vertical-align: middle;\n",
              "    }\n",
              "\n",
              "    .dataframe tbody tr th {\n",
              "        vertical-align: top;\n",
              "    }\n",
              "\n",
              "    .dataframe thead th {\n",
              "        text-align: right;\n",
              "    }\n",
              "</style>\n",
              "<table border=\"1\" class=\"dataframe\">\n",
              "  <thead>\n",
              "    <tr style=\"text-align: right;\">\n",
              "      <th></th>\n",
              "      <th>id</th>\n",
              "      <th>Clutch Completion</th>\n",
              "      <th>Culmen Length (mm)</th>\n",
              "      <th>Culmen Depth (mm)</th>\n",
              "      <th>Flipper Length (mm)</th>\n",
              "      <th>Sex</th>\n",
              "      <th>Delta 15 N (o/oo)</th>\n",
              "      <th>Delta 13 C (o/oo)</th>\n",
              "      <th>Body Mass (g)</th>\n",
              "      <th>x0_Adelie Penguin (Pygoscelis adeliae)</th>\n",
              "      <th>x0_Chinstrap penguin (Pygoscelis antarctica)</th>\n",
              "      <th>x0_Gentoo penguin (Pygoscelis papua)</th>\n",
              "      <th>x0_Biscoe</th>\n",
              "      <th>x0_Dream</th>\n",
              "      <th>x0_Torgersen</th>\n",
              "    </tr>\n",
              "  </thead>\n",
              "  <tbody>\n",
              "    <tr>\n",
              "      <th>0</th>\n",
              "      <td>0</td>\n",
              "      <td>1</td>\n",
              "      <td>50.0</td>\n",
              "      <td>15.3</td>\n",
              "      <td>220</td>\n",
              "      <td>1.0</td>\n",
              "      <td>8.30515</td>\n",
              "      <td>-25.19017</td>\n",
              "      <td>5550</td>\n",
              "      <td>0.0</td>\n",
              "      <td>0.0</td>\n",
              "      <td>1.0</td>\n",
              "      <td>1.0</td>\n",
              "      <td>0.0</td>\n",
              "      <td>0.0</td>\n",
              "    </tr>\n",
              "    <tr>\n",
              "      <th>1</th>\n",
              "      <td>1</td>\n",
              "      <td>0</td>\n",
              "      <td>49.5</td>\n",
              "      <td>19.0</td>\n",
              "      <td>200</td>\n",
              "      <td>1.0</td>\n",
              "      <td>9.63074</td>\n",
              "      <td>-24.34684</td>\n",
              "      <td>3800</td>\n",
              "      <td>0.0</td>\n",
              "      <td>1.0</td>\n",
              "      <td>0.0</td>\n",
              "      <td>0.0</td>\n",
              "      <td>1.0</td>\n",
              "      <td>0.0</td>\n",
              "    </tr>\n",
              "    <tr>\n",
              "      <th>2</th>\n",
              "      <td>2</td>\n",
              "      <td>1</td>\n",
              "      <td>45.1</td>\n",
              "      <td>14.4</td>\n",
              "      <td>210</td>\n",
              "      <td>0.0</td>\n",
              "      <td>8.51951</td>\n",
              "      <td>-27.01854</td>\n",
              "      <td>4400</td>\n",
              "      <td>0.0</td>\n",
              "      <td>0.0</td>\n",
              "      <td>1.0</td>\n",
              "      <td>1.0</td>\n",
              "      <td>0.0</td>\n",
              "      <td>0.0</td>\n",
              "    </tr>\n",
              "    <tr>\n",
              "      <th>3</th>\n",
              "      <td>3</td>\n",
              "      <td>1</td>\n",
              "      <td>44.5</td>\n",
              "      <td>14.7</td>\n",
              "      <td>214</td>\n",
              "      <td>0.0</td>\n",
              "      <td>8.20106</td>\n",
              "      <td>-26.16524</td>\n",
              "      <td>4850</td>\n",
              "      <td>0.0</td>\n",
              "      <td>0.0</td>\n",
              "      <td>1.0</td>\n",
              "      <td>1.0</td>\n",
              "      <td>0.0</td>\n",
              "      <td>0.0</td>\n",
              "    </tr>\n",
              "    <tr>\n",
              "      <th>4</th>\n",
              "      <td>4</td>\n",
              "      <td>0</td>\n",
              "      <td>49.6</td>\n",
              "      <td>16.0</td>\n",
              "      <td>225</td>\n",
              "      <td>1.0</td>\n",
              "      <td>8.38324</td>\n",
              "      <td>-26.84272</td>\n",
              "      <td>5700</td>\n",
              "      <td>0.0</td>\n",
              "      <td>0.0</td>\n",
              "      <td>1.0</td>\n",
              "      <td>1.0</td>\n",
              "      <td>0.0</td>\n",
              "      <td>0.0</td>\n",
              "    </tr>\n",
              "    <tr>\n",
              "      <th>...</th>\n",
              "      <td>...</td>\n",
              "      <td>...</td>\n",
              "      <td>...</td>\n",
              "      <td>...</td>\n",
              "      <td>...</td>\n",
              "      <td>...</td>\n",
              "      <td>...</td>\n",
              "      <td>...</td>\n",
              "      <td>...</td>\n",
              "      <td>...</td>\n",
              "      <td>...</td>\n",
              "      <td>...</td>\n",
              "      <td>...</td>\n",
              "      <td>...</td>\n",
              "      <td>...</td>\n",
              "    </tr>\n",
              "    <tr>\n",
              "      <th>109</th>\n",
              "      <td>109</td>\n",
              "      <td>1</td>\n",
              "      <td>36.6</td>\n",
              "      <td>17.8</td>\n",
              "      <td>185</td>\n",
              "      <td>0.0</td>\n",
              "      <td>NaN</td>\n",
              "      <td>NaN</td>\n",
              "      <td>3700</td>\n",
              "      <td>1.0</td>\n",
              "      <td>0.0</td>\n",
              "      <td>0.0</td>\n",
              "      <td>0.0</td>\n",
              "      <td>0.0</td>\n",
              "      <td>1.0</td>\n",
              "    </tr>\n",
              "    <tr>\n",
              "      <th>110</th>\n",
              "      <td>110</td>\n",
              "      <td>1</td>\n",
              "      <td>39.2</td>\n",
              "      <td>18.6</td>\n",
              "      <td>190</td>\n",
              "      <td>1.0</td>\n",
              "      <td>9.11006</td>\n",
              "      <td>-25.79549</td>\n",
              "      <td>4250</td>\n",
              "      <td>1.0</td>\n",
              "      <td>0.0</td>\n",
              "      <td>0.0</td>\n",
              "      <td>0.0</td>\n",
              "      <td>1.0</td>\n",
              "      <td>0.0</td>\n",
              "    </tr>\n",
              "    <tr>\n",
              "      <th>111</th>\n",
              "      <td>111</td>\n",
              "      <td>1</td>\n",
              "      <td>43.2</td>\n",
              "      <td>18.5</td>\n",
              "      <td>192</td>\n",
              "      <td>1.0</td>\n",
              "      <td>8.97025</td>\n",
              "      <td>-26.03679</td>\n",
              "      <td>4100</td>\n",
              "      <td>1.0</td>\n",
              "      <td>0.0</td>\n",
              "      <td>0.0</td>\n",
              "      <td>0.0</td>\n",
              "      <td>1.0</td>\n",
              "      <td>0.0</td>\n",
              "    </tr>\n",
              "    <tr>\n",
              "      <th>112</th>\n",
              "      <td>112</td>\n",
              "      <td>0</td>\n",
              "      <td>46.9</td>\n",
              "      <td>16.6</td>\n",
              "      <td>192</td>\n",
              "      <td>0.0</td>\n",
              "      <td>9.80589</td>\n",
              "      <td>-24.73735</td>\n",
              "      <td>2700</td>\n",
              "      <td>0.0</td>\n",
              "      <td>1.0</td>\n",
              "      <td>0.0</td>\n",
              "      <td>0.0</td>\n",
              "      <td>1.0</td>\n",
              "      <td>0.0</td>\n",
              "    </tr>\n",
              "    <tr>\n",
              "      <th>113</th>\n",
              "      <td>113</td>\n",
              "      <td>1</td>\n",
              "      <td>50.8</td>\n",
              "      <td>17.3</td>\n",
              "      <td>228</td>\n",
              "      <td>1.0</td>\n",
              "      <td>8.27428</td>\n",
              "      <td>-26.30019</td>\n",
              "      <td>5600</td>\n",
              "      <td>0.0</td>\n",
              "      <td>0.0</td>\n",
              "      <td>1.0</td>\n",
              "      <td>1.0</td>\n",
              "      <td>0.0</td>\n",
              "      <td>0.0</td>\n",
              "    </tr>\n",
              "  </tbody>\n",
              "</table>\n",
              "<p>114 rows × 15 columns</p>\n",
              "</div>\n",
              "      <button class=\"colab-df-convert\" onclick=\"convertToInteractive('df-b454dbfd-ca90-49bb-9e93-d0b72305edd0')\"\n",
              "              title=\"Convert this dataframe to an interactive table.\"\n",
              "              style=\"display:none;\">\n",
              "        \n",
              "  <svg xmlns=\"http://www.w3.org/2000/svg\" height=\"24px\"viewBox=\"0 0 24 24\"\n",
              "       width=\"24px\">\n",
              "    <path d=\"M0 0h24v24H0V0z\" fill=\"none\"/>\n",
              "    <path d=\"M18.56 5.44l.94 2.06.94-2.06 2.06-.94-2.06-.94-.94-2.06-.94 2.06-2.06.94zm-11 1L8.5 8.5l.94-2.06 2.06-.94-2.06-.94L8.5 2.5l-.94 2.06-2.06.94zm10 10l.94 2.06.94-2.06 2.06-.94-2.06-.94-.94-2.06-.94 2.06-2.06.94z\"/><path d=\"M17.41 7.96l-1.37-1.37c-.4-.4-.92-.59-1.43-.59-.52 0-1.04.2-1.43.59L10.3 9.45l-7.72 7.72c-.78.78-.78 2.05 0 2.83L4 21.41c.39.39.9.59 1.41.59.51 0 1.02-.2 1.41-.59l7.78-7.78 2.81-2.81c.8-.78.8-2.07 0-2.86zM5.41 20L4 18.59l7.72-7.72 1.47 1.35L5.41 20z\"/>\n",
              "  </svg>\n",
              "      </button>\n",
              "      \n",
              "  <style>\n",
              "    .colab-df-container {\n",
              "      display:flex;\n",
              "      flex-wrap:wrap;\n",
              "      gap: 12px;\n",
              "    }\n",
              "\n",
              "    .colab-df-convert {\n",
              "      background-color: #E8F0FE;\n",
              "      border: none;\n",
              "      border-radius: 50%;\n",
              "      cursor: pointer;\n",
              "      display: none;\n",
              "      fill: #1967D2;\n",
              "      height: 32px;\n",
              "      padding: 0 0 0 0;\n",
              "      width: 32px;\n",
              "    }\n",
              "\n",
              "    .colab-df-convert:hover {\n",
              "      background-color: #E2EBFA;\n",
              "      box-shadow: 0px 1px 2px rgba(60, 64, 67, 0.3), 0px 1px 3px 1px rgba(60, 64, 67, 0.15);\n",
              "      fill: #174EA6;\n",
              "    }\n",
              "\n",
              "    [theme=dark] .colab-df-convert {\n",
              "      background-color: #3B4455;\n",
              "      fill: #D2E3FC;\n",
              "    }\n",
              "\n",
              "    [theme=dark] .colab-df-convert:hover {\n",
              "      background-color: #434B5C;\n",
              "      box-shadow: 0px 1px 3px 1px rgba(0, 0, 0, 0.15);\n",
              "      filter: drop-shadow(0px 1px 2px rgba(0, 0, 0, 0.3));\n",
              "      fill: #FFFFFF;\n",
              "    }\n",
              "  </style>\n",
              "\n",
              "      <script>\n",
              "        const buttonEl =\n",
              "          document.querySelector('#df-b454dbfd-ca90-49bb-9e93-d0b72305edd0 button.colab-df-convert');\n",
              "        buttonEl.style.display =\n",
              "          google.colab.kernel.accessAllowed ? 'block' : 'none';\n",
              "\n",
              "        async function convertToInteractive(key) {\n",
              "          const element = document.querySelector('#df-b454dbfd-ca90-49bb-9e93-d0b72305edd0');\n",
              "          const dataTable =\n",
              "            await google.colab.kernel.invokeFunction('convertToInteractive',\n",
              "                                                     [key], {});\n",
              "          if (!dataTable) return;\n",
              "\n",
              "          const docLinkHtml = 'Like what you see? Visit the ' +\n",
              "            '<a target=\"_blank\" href=https://colab.research.google.com/notebooks/data_table.ipynb>data table notebook</a>'\n",
              "            + ' to learn more about interactive tables.';\n",
              "          element.innerHTML = '';\n",
              "          dataTable['output_type'] = 'display_data';\n",
              "          await google.colab.output.renderOutput(dataTable, element);\n",
              "          const docLink = document.createElement('div');\n",
              "          docLink.innerHTML = docLinkHtml;\n",
              "          element.appendChild(docLink);\n",
              "        }\n",
              "      </script>\n",
              "    </div>\n",
              "  </div>\n",
              "  "
            ],
            "text/plain": [
              "      id  Clutch Completion  ...  x0_Dream  x0_Torgersen\n",
              "0      0                  1  ...       0.0           0.0\n",
              "1      1                  0  ...       1.0           0.0\n",
              "2      2                  1  ...       0.0           0.0\n",
              "3      3                  1  ...       0.0           0.0\n",
              "4      4                  0  ...       0.0           0.0\n",
              "..   ...                ...  ...       ...           ...\n",
              "109  109                  1  ...       0.0           1.0\n",
              "110  110                  1  ...       1.0           0.0\n",
              "111  111                  1  ...       1.0           0.0\n",
              "112  112                  0  ...       1.0           0.0\n",
              "113  113                  1  ...       0.0           0.0\n",
              "\n",
              "[114 rows x 15 columns]"
            ]
          },
          "metadata": {},
          "execution_count": 134
        }
      ]
    },
    {
      "cell_type": "code",
      "source": [
        "import numpy as np\n",
        "plt.figure(figsize=(15,10))\n",
        "\n",
        "heat_table = train.corr()\n",
        "mask = np.zeros_like(heat_table)\n",
        "mask[np.triu_indices_from(mask)] = True\n",
        "heatmap_ax = sns.heatmap(heat_table, annot=True, mask = mask, cmap='coolwarm')\n",
        "\n",
        "plt.title('correlation between features', fontsize=40)\n",
        "plt.show()"
      ],
      "metadata": {
        "colab": {
          "base_uri": "https://localhost:8080/",
          "height": 847
        },
        "id": "VdqR-yBotSL4",
        "outputId": "a1d2a89f-48ae-4865-e432-b3d63b246e6d"
      },
      "execution_count": 135,
      "outputs": [
        {
          "output_type": "display_data",
          "data": {
            "image/png": "[encoded data removed]",
            "text/plain": [
              "<Figure size 1080x720 with 2 Axes>"
            ]
          },
          "metadata": {
            "needs_background": "light"
          }
        }
      ]
    },
    {
      "cell_type": "markdown",
      "source": [
        "결측치들을 ML으로 채워줘보자."
      ],
      "metadata": {
        "id": "H9Uhhutl8fNR"
      }
    },
    {
      "cell_type": "code",
      "source": [
        "from sklearn.model_selection import KFold, train_test_split\n",
        "from sklearn.metrics import accuracy_score\n",
        "from sklearn.linear_model import LogisticRegression\n",
        "from sklearn.ensemble import RandomForestRegressor, RandomForestClassifier\n",
        "from xgboost import XGBRegressor, XGBClassifier\n",
        "from lightgbm import LGBMRegressor, LGBMClassifier\n",
        "from sklearn.tree import DecisionTreeClassifier\n",
        "from sklearn.neighbors import KNeighborsClassifier\n",
        "from sklearn.svm import SVC, SVR\n",
        "\n",
        "\n",
        "models = []\n",
        "models.append(('LR',LogisticRegression(solver='liblinear',multi_class = 'ovr')))\n",
        "models.append(('KNN',KNeighborsClassifier()))\n",
        "models.append(('CART',DecisionTreeClassifier()))\n",
        "models.append(('SVM',SVC(gamma='auto')))\n",
        "models.append(('RFC',RandomForestClassifier()))\n",
        "models.append(('XGBC',XGBClassifier(verbose=False)))\n",
        "models.append(('LGBMC',LGBMClassifier()))\n",
        "results =[]\n",
        "names = []\n",
        "X=train.drop(columns=['id','Sex','Delta 15 N (o/oo)','Delta 13 C (o/oo)','Body Mass (g)'],axis=1).iloc[train['Sex'].dropna().index]\n",
        "y=train['Sex'].iloc[train['Sex'].dropna().index]\n",
        "for name, model in models:\n",
        "  kf = KFold(n_splits=5,random_state=0,shuffle = True)\n",
        "  scores=[]\n",
        "  for train_idx, valid_idx in kf.split(X,y):\n",
        "    X_tr=X.iloc[train_idx]\n",
        "    y_tr=y.iloc[train_idx]\n",
        "\n",
        "    X_val=X.iloc[valid_idx]\n",
        "    y_val=y.iloc[valid_idx]\n",
        "\n",
        "    model.fit(X_tr,y_tr)\n",
        "    score=accuracy_score(y_val,model.predict(X_val))\n",
        "    scores.append(score)\n",
        "  results.append(scores)\n",
        "  names.append(name)\n",
        "  print('{} : {}'.format(name,np.mean(scores)))"
      ],
      "metadata": {
        "colab": {
          "base_uri": "https://localhost:8080/"
        },
        "id": "wC2ewPDPtSJZ",
        "outputId": "28787689-33e3-40c9-de12-104b7fa9207c"
      },
      "execution_count": 136,
      "outputs": [
        {
          "output_type": "stream",
          "name": "stdout",
          "text": [
            "LR : 0.7134387351778656\n",
            "KNN : 0.766403162055336\n",
            "CART : 0.7920948616600791\n",
            "SVM : 0.774703557312253\n",
            "RFC : 0.8197628458498023\n",
            "XGBC : 0.8015810276679842\n",
            "LGBMC : 0.8470355731225296\n"
          ]
        }
      ]
    },
    {
      "cell_type": "markdown",
      "source": [
        "Voting Classifier로 sex결측치를 넣어본다.(이렇게까지 해야하나...하는 생각이...다양한 삽질을 해본다. 배우는 과정이니깐..)"
      ],
      "metadata": {
        "id": "ey74ZWf7Chti"
      }
    },
    {
      "cell_type": "code",
      "source": [
        "from sklearn.ensemble import VotingClassifier\n",
        "\n",
        "models = []\n",
        "models.append(('LR',LogisticRegression(solver='liblinear',multi_class = 'ovr')))\n",
        "models.append(('KNN',KNeighborsClassifier()))\n",
        "models.append(('CART',DecisionTreeClassifier()))\n",
        "models.append(('SVM',SVC(gamma='auto')))\n",
        "models.append(('RFC',RandomForestClassifier()))\n",
        "models.append(('XGBC',XGBClassifier(verbose=False)))\n",
        "models.append(('LGBMC',LGBMClassifier()))\n",
        "\n",
        "VC=VotingClassifier(estimators=models,voting='hard')\n",
        "VC.fit(X,y)\n",
        "\n",
        "\n",
        "train['Sex'].iloc[np.where(train['Sex'].isnull()==True)] = VC.predict(train[train['Sex'].isnull()].drop(columns=['id','Sex','Delta 15 N (o/oo)','Delta 13 C (o/oo)','Body Mass (g)']))\n",
        "test['Sex'].iloc[np.where(test['Sex'].isnull()==True)] = VC.predict(test[test['Sex'].isnull()].drop(columns=['id','Sex','Delta 15 N (o/oo)','Delta 13 C (o/oo)']))\n"
      ],
      "metadata": {
        "colab": {
          "base_uri": "https://localhost:8080/"
        },
        "id": "cQzoB4LxtSG7",
        "outputId": "2d4d01b2-0319-4718-e2f9-bac6253a66a7"
      },
      "execution_count": 137,
      "outputs": [
        {
          "output_type": "stream",
          "name": "stderr",
          "text": [
            "/usr/local/lib/python3.7/dist-packages/pandas/core/indexing.py:670: SettingWithCopyWarning: \n",
            "A value is trying to be set on a copy of a slice from a DataFrame\n",
            "\n",
            "See the caveats in the documentation: https://pandas.pydata.org/pandas-docs/stable/user_guide/indexing.html#returning-a-view-versus-a-copy\n",
            "  iloc._setitem_with_indexer(indexer, value)\n",
            "/usr/local/lib/python3.7/dist-packages/pandas/core/indexing.py:670: SettingWithCopyWarning: \n",
            "A value is trying to be set on a copy of a slice from a DataFrame\n",
            "\n",
            "See the caveats in the documentation: https://pandas.pydata.org/pandas-docs/stable/user_guide/indexing.html#returning-a-view-versus-a-copy\n",
            "  iloc._setitem_with_indexer(indexer, value)\n"
          ]
        }
      ]
    },
    {
      "cell_type": "code",
      "source": [
        "from sklearn.model_selection import KFold, train_test_split\n",
        "from sklearn.metrics import accuracy_score\n",
        "from sklearn.linear_model import LinearRegression\n",
        "from sklearn.neighbors import KNeighborsRegressor\n",
        "from sklearn.tree import DecisionTreeRegressor\n",
        "from sklearn.metrics import mean_squared_error\n",
        "from math import sqrt\n",
        "\n",
        "models = []\n",
        "models.append(('LR',LinearRegression()))\n",
        "models.append(('KNN',KNeighborsRegressor()))\n",
        "models.append(('CART',DecisionTreeRegressor()))\n",
        "models.append(('SVM',SVR()))\n",
        "models.append(('RFR',RandomForestRegressor()))\n",
        "models.append(('XGBR',XGBRegressor(verbose=False, verbosity=0)))\n",
        "models.append(('LGBMR',LGBMRegressor()))\n",
        "\n",
        "results =[]\n",
        "names = []\n",
        "X=train.drop(columns=['id','Delta 15 N (o/oo)','Delta 13 C (o/oo)','Body Mass (g)'],axis=1).iloc[train['Delta 15 N (o/oo)'].dropna().index]\n",
        "y=train['Delta 15 N (o/oo)'].iloc[train['Delta 15 N (o/oo)'].dropna().index]\n",
        "for name, model in models:\n",
        "  kf = KFold(n_splits=5,random_state=1,shuffle = True)\n",
        "  scores=[]\n",
        "  for train_idx, valid_idx in kf.split(X,y):\n",
        "    X_tr=X.iloc[train_idx]\n",
        "    y_tr=y.iloc[train_idx]\n",
        "\n",
        "    X_val=X.iloc[valid_idx]\n",
        "    y_val=y.iloc[valid_idx]\n",
        "\n",
        "    model.fit(X_tr,y_tr)\n",
        "    score=sqrt(mean_squared_error(y_val,model.predict(X_val)))\n",
        "    scores.append(score)\n",
        "  results.append(scores)\n",
        "  names.append(name)\n",
        "  print('{} : {}'.format(name,np.mean(scores)))"
      ],
      "metadata": {
        "colab": {
          "base_uri": "https://localhost:8080/"
        },
        "id": "Z9TbWjChtSEg",
        "outputId": "09b360a8-6983-4dd0-f797-9e8d1eda383a"
      },
      "execution_count": 138,
      "outputs": [
        {
          "output_type": "stream",
          "name": "stdout",
          "text": [
            "LR : 0.3737481183928756\n",
            "KNN : 0.42007831489608094\n",
            "CART : 0.5574366936561048\n",
            "SVM : 0.4883806970619514\n",
            "RFR : 0.41436616151766553\n",
            "XGBR : 0.42396589777109045\n",
            "LGBMR : 0.39490519932831863\n"
          ]
        }
      ]
    },
    {
      "cell_type": "code",
      "source": [
        "train_results=[]\n",
        "test_results=[]\n",
        "for name, model in models:\n",
        "  train_result=model.predict(train[train['Delta 15 N (o/oo)'].isnull()].drop(columns=['id','Delta 15 N (o/oo)','Delta 13 C (o/oo)','Body Mass (g)']))\n",
        "  test_result = model.predict(test[test['Delta 15 N (o/oo)'].isnull()].drop(columns=['id','Delta 15 N (o/oo)','Delta 13 C (o/oo)']))\n",
        "\n",
        "  if len(train_results)==0:\n",
        "    train_results=train_result\n",
        "    test_results=test_result\n",
        "  else :\n",
        "    train_results= [x + y for x, y in zip(train_results,train_result)]\n",
        "    test_results= [x + y for x, y in zip(test_results,test_result)]\n",
        "\n",
        "\n",
        "train['Delta 15 N (o/oo)'].iloc[np.where(train['Delta 15 N (o/oo)'].isnull()==True)] = list(map(lambda x: x / len(models), train_results))\n",
        "test['Delta 15 N (o/oo)'].iloc[np.where(test['Delta 15 N (o/oo)'].isnull()==True)] = list(map(lambda x: x / len(models), test_results))\n"
      ],
      "metadata": {
        "colab": {
          "base_uri": "https://localhost:8080/"
        },
        "id": "h9JSMJeUtSCG",
        "outputId": "63bcbbb5-2a37-4b83-a37b-e49cdaaad7fd"
      },
      "execution_count": 139,
      "outputs": [
        {
          "output_type": "stream",
          "name": "stderr",
          "text": [
            "/usr/local/lib/python3.7/dist-packages/pandas/core/indexing.py:670: SettingWithCopyWarning: \n",
            "A value is trying to be set on a copy of a slice from a DataFrame\n",
            "\n",
            "See the caveats in the documentation: https://pandas.pydata.org/pandas-docs/stable/user_guide/indexing.html#returning-a-view-versus-a-copy\n",
            "  iloc._setitem_with_indexer(indexer, value)\n",
            "/usr/local/lib/python3.7/dist-packages/pandas/core/indexing.py:670: SettingWithCopyWarning: \n",
            "A value is trying to be set on a copy of a slice from a DataFrame\n",
            "\n",
            "See the caveats in the documentation: https://pandas.pydata.org/pandas-docs/stable/user_guide/indexing.html#returning-a-view-versus-a-copy\n",
            "  iloc._setitem_with_indexer(indexer, value)\n"
          ]
        }
      ]
    },
    {
      "cell_type": "code",
      "source": [
        "from sklearn.model_selection import KFold, train_test_split\n",
        "from sklearn.metrics import accuracy_score\n",
        "from sklearn.linear_model import LinearRegression\n",
        "from sklearn.neighbors import KNeighborsRegressor\n",
        "from sklearn.tree import DecisionTreeRegressor\n",
        "from sklearn.metrics import mean_squared_error\n",
        "from math import sqrt\n",
        "\n",
        "models = []\n",
        "models.append(('LR',LinearRegression()))\n",
        "models.append(('KNN',KNeighborsRegressor()))\n",
        "models.append(('CART',DecisionTreeRegressor()))\n",
        "models.append(('SVM',SVR()))\n",
        "models.append(('RFR',RandomForestRegressor()))\n",
        "models.append(('XGBR',XGBRegressor(verbose=False,  verbosity=0)))\n",
        "models.append(('LGBMR',LGBMRegressor()))\n",
        "\n",
        "results =[]\n",
        "names = []\n",
        "X=train.drop(columns=['id','Delta 13 C (o/oo)','Body Mass (g)'],axis=1).iloc[train['Delta 13 C (o/oo)'].dropna().index]\n",
        "y=train['Delta 13 C (o/oo)'].iloc[train['Delta 13 C (o/oo)'].dropna().index]\n",
        "for name, model in models:\n",
        "  kf = KFold(n_splits=5,random_state=1,shuffle = True)\n",
        "  scores=[]\n",
        "  for train_idx, valid_idx in kf.split(X,y):\n",
        "    X_tr=X.iloc[train_idx]\n",
        "    y_tr=y.iloc[train_idx]\n",
        "\n",
        "    X_val=X.iloc[valid_idx]\n",
        "    y_val=y.iloc[valid_idx]\n",
        "\n",
        "    model.fit(X_tr,y_tr)\n",
        "    score=sqrt(mean_squared_error(y_val,model.predict(X_val)))\n",
        "    scores.append(score)\n",
        "  results.append(scores)\n",
        "  names.append(name)\n",
        "  print('{} : {}'.format(name,np.mean(scores)))"
      ],
      "metadata": {
        "colab": {
          "base_uri": "https://localhost:8080/"
        },
        "id": "9T7cvYmZtR_1",
        "outputId": "f77c63bd-3434-4d58-ce21-9fa0c0e4818f"
      },
      "execution_count": 140,
      "outputs": [
        {
          "output_type": "stream",
          "name": "stdout",
          "text": [
            "LR : 0.526069134172525\n",
            "KNN : 0.6236309814051801\n",
            "CART : 0.6908448268271802\n",
            "SVM : 0.7961858793268946\n",
            "RFR : 0.5072196565994369\n",
            "XGBR : 0.5092648193214051\n",
            "LGBMR : 0.5239878587536465\n"
          ]
        }
      ]
    },
    {
      "cell_type": "code",
      "source": [
        "train_results=[]\n",
        "test_results=[]\n",
        "for name, model in models:\n",
        "  train_result=model.predict(train[train['Delta 13 C (o/oo)'].isnull()].drop(columns=['id','Delta 13 C (o/oo)','Body Mass (g)']))\n",
        "  test_result = model.predict(test[test['Delta 13 C (o/oo)'].isnull()].drop(columns=['id','Delta 13 C (o/oo)']))\n",
        "\n",
        "  if len(train_results)==0:\n",
        "    train_results=train_result\n",
        "    test_results=test_result\n",
        "  else :\n",
        "    train_results= [x + y for x, y in zip(train_results,train_result)]\n",
        "    test_results= [x + y for x, y in zip(test_results,test_result)]\n",
        "\n",
        "train['Delta 13 C (o/oo)'].iloc[np.where(train['Delta 13 C (o/oo)'].isnull()==True)] = list(map(lambda x: x / len(models), train_results))\n",
        "test['Delta 13 C (o/oo)'].iloc[np.where(test['Delta 13 C (o/oo)'].isnull()==True)] = list(map(lambda x: x / len(models), test_results))"
      ],
      "metadata": {
        "colab": {
          "base_uri": "https://localhost:8080/"
        },
        "id": "JF-w-9I8O0bG",
        "outputId": "cf9b9f08-04cb-42ea-fb7a-533e099ee3a0"
      },
      "execution_count": 141,
      "outputs": [
        {
          "output_type": "stream",
          "name": "stderr",
          "text": [
            "/usr/local/lib/python3.7/dist-packages/pandas/core/indexing.py:670: SettingWithCopyWarning: \n",
            "A value is trying to be set on a copy of a slice from a DataFrame\n",
            "\n",
            "See the caveats in the documentation: https://pandas.pydata.org/pandas-docs/stable/user_guide/indexing.html#returning-a-view-versus-a-copy\n",
            "  iloc._setitem_with_indexer(indexer, value)\n",
            "/usr/local/lib/python3.7/dist-packages/pandas/core/indexing.py:670: SettingWithCopyWarning: \n",
            "A value is trying to be set on a copy of a slice from a DataFrame\n",
            "\n",
            "See the caveats in the documentation: https://pandas.pydata.org/pandas-docs/stable/user_guide/indexing.html#returning-a-view-versus-a-copy\n",
            "  iloc._setitem_with_indexer(indexer, value)\n"
          ]
        }
      ]
    },
    {
      "cell_type": "code",
      "source": [
        "train.isnull().sum()"
      ],
      "metadata": {
        "colab": {
          "base_uri": "https://localhost:8080/"
        },
        "id": "Lbmi2nEcRMkZ",
        "outputId": "a608b0bc-a784-4b36-f457-7095ec460699"
      },
      "execution_count": 19,
      "outputs": [
        {
          "output_type": "execute_result",
          "data": {
            "text/plain": [
              "id                                              0\n",
              "Clutch Completion                               0\n",
              "Culmen Length (mm)                              0\n",
              "Culmen Depth (mm)                               0\n",
              "Flipper Length (mm)                             0\n",
              "Sex                                             0\n",
              "Delta 15 N (o/oo)                               0\n",
              "Delta 13 C (o/oo)                               0\n",
              "Body Mass (g)                                   0\n",
              "x0_Adelie Penguin (Pygoscelis adeliae)          0\n",
              "x0_Chinstrap penguin (Pygoscelis antarctica)    0\n",
              "x0_Gentoo penguin (Pygoscelis papua)            0\n",
              "x0_Biscoe                                       0\n",
              "x0_Dream                                        0\n",
              "x0_Torgersen                                    0\n",
              "dtype: int64"
            ]
          },
          "metadata": {},
          "execution_count": 19
        }
      ]
    },
    {
      "cell_type": "code",
      "source": [
        "test.isnull().sum()"
      ],
      "metadata": {
        "colab": {
          "base_uri": "https://localhost:8080/"
        },
        "id": "iNE_trliYaPi",
        "outputId": "ffe286a6-23fc-49ca-92de-90494c94cd37"
      },
      "execution_count": 20,
      "outputs": [
        {
          "output_type": "execute_result",
          "data": {
            "text/plain": [
              "id                                              0\n",
              "Clutch Completion                               0\n",
              "Culmen Length (mm)                              0\n",
              "Culmen Depth (mm)                               0\n",
              "Flipper Length (mm)                             0\n",
              "Sex                                             0\n",
              "Delta 15 N (o/oo)                               0\n",
              "Delta 13 C (o/oo)                               0\n",
              "x0_Adelie Penguin (Pygoscelis adeliae)          0\n",
              "x0_Chinstrap penguin (Pygoscelis antarctica)    0\n",
              "x0_Gentoo penguin (Pygoscelis papua)            0\n",
              "x0_Biscoe                                       0\n",
              "x0_Dream                                        0\n",
              "x0_Torgersen                                    0\n",
              "dtype: int64"
            ]
          },
          "metadata": {},
          "execution_count": 20
        }
      ]
    },
    {
      "cell_type": "code",
      "source": [
        "print(train.shape)\n",
        "print(test.shape)"
      ],
      "metadata": {
        "id": "aomfvbxjYbmp",
        "colab": {
          "base_uri": "https://localhost:8080/"
        },
        "outputId": "c388a43f-fcdc-462a-f71a-f5d3635fde8b"
      },
      "execution_count": 23,
      "outputs": [
        {
          "output_type": "stream",
          "name": "stdout",
          "text": [
            "(114, 15)\n",
            "(228, 14)\n"
          ]
        }
      ]
    },
    {
      "cell_type": "code",
      "source": [
        "print(train.dtypes)\n",
        "print(test.dtypes)"
      ],
      "metadata": {
        "colab": {
          "base_uri": "https://localhost:8080/"
        },
        "id": "b7SHLYn96K4z",
        "outputId": "b0dd2d7d-fc67-4510-9df6-f9063d85f02c"
      },
      "execution_count": 24,
      "outputs": [
        {
          "output_type": "stream",
          "name": "stdout",
          "text": [
            "id                                                int64\n",
            "Clutch Completion                                 int64\n",
            "Culmen Length (mm)                              float64\n",
            "Culmen Depth (mm)                               float64\n",
            "Flipper Length (mm)                               int64\n",
            "Sex                                             float64\n",
            "Delta 15 N (o/oo)                               float64\n",
            "Delta 13 C (o/oo)                               float64\n",
            "Body Mass (g)                                     int64\n",
            "x0_Adelie Penguin (Pygoscelis adeliae)          float64\n",
            "x0_Chinstrap penguin (Pygoscelis antarctica)    float64\n",
            "x0_Gentoo penguin (Pygoscelis papua)            float64\n",
            "x0_Biscoe                                       float64\n",
            "x0_Dream                                        float64\n",
            "x0_Torgersen                                    float64\n",
            "dtype: object\n",
            "id                                                int64\n",
            "Clutch Completion                                 int64\n",
            "Culmen Length (mm)                              float64\n",
            "Culmen Depth (mm)                               float64\n",
            "Flipper Length (mm)                             float64\n",
            "Sex                                             float64\n",
            "Delta 15 N (o/oo)                               float64\n",
            "Delta 13 C (o/oo)                               float64\n",
            "x0_Adelie Penguin (Pygoscelis adeliae)          float64\n",
            "x0_Chinstrap penguin (Pygoscelis antarctica)    float64\n",
            "x0_Gentoo penguin (Pygoscelis papua)            float64\n",
            "x0_Biscoe                                       float64\n",
            "x0_Dream                                        float64\n",
            "x0_Torgersen                                    float64\n",
            "dtype: object\n"
          ]
        }
      ]
    },
    {
      "cell_type": "code",
      "source": [
        "plt.figure(figsize=(20,15))\n",
        "for i in range(1, len(train.columns)):\n",
        "  plt.subplot(4,4,i)\n",
        "  sns.kdeplot(train[train.columns[i]])\n",
        "\n",
        "plt.show()"
      ],
      "metadata": {
        "colab": {
          "base_uri": "https://localhost:8080/",
          "height": 879
        },
        "id": "q_NV09M46TpT",
        "outputId": "7f404d7c-5cf9-40d0-e517-907af0dbbd83"
      },
      "execution_count": 46,
      "outputs": [
        {
          "output_type": "display_data",
          "data": {
            "image/png": "[encoded data removed]",
            "text/plain": [
              "<Figure size 1440x1080 with 14 Axes>"
            ]
          },
          "metadata": {
            "needs_background": "light"
          }
        }
      ]
    },
    {
      "cell_type": "markdown",
      "source": [
        "기본, 정규화, 표준화를 한 모델을 비교해보자."
      ],
      "metadata": {
        "id": "eHpe6_LXKhuA"
      }
    },
    {
      "cell_type": "markdown",
      "source": [
        "###  기본 train으로 모델링"
      ],
      "metadata": {
        "id": "yc1CjP9DhObc"
      }
    },
    {
      "cell_type": "code",
      "source": [
        "from sklearn.model_selection import KFold, train_test_split\n",
        "from sklearn.metrics import accuracy_score\n",
        "from sklearn.linear_model import LinearRegression\n",
        "from sklearn.neighbors import KNeighborsRegressor\n",
        "from sklearn.tree import DecisionTreeRegressor\n",
        "from sklearn.metrics import mean_squared_error\n",
        "from math import sqrt\n",
        "\n",
        "models = []\n",
        "models.append(('LR',LinearRegression()))\n",
        "models.append(('KNN',KNeighborsRegressor()))\n",
        "models.append(('CART',DecisionTreeRegressor()))\n",
        "models.append(('SVM',SVR()))\n",
        "models.append(('RFR',RandomForestRegressor()))\n",
        "models.append(('XGBR',XGBRegressor(verbose=False,  verbosity=0)))\n",
        "models.append(('LGBMR',LGBMRegressor()))\n",
        "\n",
        "\n",
        "base_results =[]\n",
        "names = []\n",
        "X=train.drop(columns=['id','Body Mass (g)'])\n",
        "y=train['Body Mass (g)']\n",
        "base_test=test.drop(columns=['id'])\n",
        "\n",
        "for name, model in models:\n",
        "  kf = KFold(n_splits=5,random_state=1,shuffle = True)\n",
        "  scores=[]\n",
        "  for train_idx, valid_idx in kf.split(X,y):\n",
        "    X_tr=X.iloc[train_idx]\n",
        "    y_tr=y.iloc[train_idx]\n",
        "\n",
        "    X_val=X.iloc[valid_idx]\n",
        "    y_val=y.iloc[valid_idx]\n",
        "\n",
        "    model.fit(X_tr,y_tr)\n",
        "    score=sqrt(mean_squared_error(y_val,model.predict(X_val)))\n",
        "    scores.append(score)\n",
        "  base_results.append(scores)\n",
        "  names.append(name)\n",
        "  print('{} : {}'.format(name,np.mean(scores)))\n",
        "  "
      ],
      "metadata": {
        "colab": {
          "base_uri": "https://localhost:8080/"
        },
        "id": "mA5-d5AB94fi",
        "outputId": "ef792c3f-7953-48fe-dc24-87aabdea82c4"
      },
      "execution_count": 142,
      "outputs": [
        {
          "output_type": "stream",
          "name": "stdout",
          "text": [
            "LR : 321.8203259090963\n",
            "KNN : 378.98619639222017\n",
            "CART : 443.5614033152493\n",
            "SVM : 785.4194378187848\n",
            "RFR : 341.1360466539709\n",
            "XGBR : 358.817481687423\n",
            "LGBMR : 336.9438218901171\n"
          ]
        }
      ]
    },
    {
      "cell_type": "markdown",
      "source": [
        "### 표준화한 train으로 모델링"
      ],
      "metadata": {
        "id": "Aa25TJlOhbp-"
      }
    },
    {
      "cell_type": "code",
      "source": [
        "from sklearn.preprocessing import StandardScaler\n",
        "\n",
        "standard_models = []\n",
        "standard_models.append(('LR',LinearRegression()))\n",
        "standard_models.append(('KNN',KNeighborsRegressor()))\n",
        "standard_models.append(('CART',DecisionTreeRegressor()))\n",
        "standard_models.append(('SVM',SVR()))\n",
        "standard_models.append(('RFR',RandomForestRegressor()))\n",
        "standard_models.append(('XGBR',XGBRegressor(verbose=False,  verbosity=0)))\n",
        "standard_models.append(('LGBMR',LGBMRegressor()))\n",
        "\n",
        "standard=StandardScaler()\n",
        "standard.fit(X)\n",
        "standard_X=pd.DataFrame(standard.transform(X), columns=X.columns)\n",
        "standard_test=test.drop(columns=['id'])\n",
        "standard_test=pd.DataFrame(standard.transform(standard_test), columns=X.columns)\n",
        "\n",
        "names=[]\n",
        "standard_results =[]\n",
        "for name, model in standard_models:\n",
        "  kf = KFold(n_splits=5,random_state=1,shuffle = True)\n",
        "  standard_scores=[]\n",
        "  for train_idx, valid_idx in kf.split(standard_X,y):\n",
        "    X_tr=standard_X.iloc[train_idx]\n",
        "    y_tr=y.iloc[train_idx]\n",
        "\n",
        "    X_val=standard_X.iloc[valid_idx]\n",
        "    y_val=y.iloc[valid_idx]\n",
        "\n",
        "    model.fit(X_tr,y_tr)\n",
        "    score=sqrt(mean_squared_error(y_val,model.predict(X_val)))\n",
        "    standard_scores.append(score)\n",
        "  standard_results.append(standard_scores)\n",
        "  names.append(name)\n",
        "  print('{} : {}'.format(name,np.mean(standard_scores)))"
      ],
      "metadata": {
        "colab": {
          "base_uri": "https://localhost:8080/"
        },
        "id": "FOtaJRpYJ-e9",
        "outputId": "25f4e764-943b-42b3-d9b0-fc38f10d2bae"
      },
      "execution_count": 151,
      "outputs": [
        {
          "output_type": "stream",
          "name": "stdout",
          "text": [
            "LR : 321.82032590909654\n",
            "KNN : 346.40299854220905\n",
            "CART : 448.70937412948143\n",
            "SVM : 773.4420931414999\n",
            "RFR : 340.20623373904493\n",
            "XGBR : 359.1888222132628\n",
            "LGBMR : 335.94591378272855\n"
          ]
        }
      ]
    },
    {
      "cell_type": "markdown",
      "source": [
        "### 정규화한 train으로 모델링"
      ],
      "metadata": {
        "id": "K987tOLRhgbh"
      }
    },
    {
      "cell_type": "code",
      "source": [
        "from sklearn.preprocessing import MinMaxScaler\n",
        "\n",
        "normal_models = []\n",
        "normal_models.append(('LR',LinearRegression()))\n",
        "normal_models.append(('KNN',KNeighborsRegressor()))\n",
        "normal_models.append(('CART',DecisionTreeRegressor()))\n",
        "normal_models.append(('SVM',SVR()))\n",
        "normal_models.append(('RFR',RandomForestRegressor()))\n",
        "normal_models.append(('XGBR',XGBRegressor(verbose=False,  verbosity=0)))\n",
        "normal_models.append(('LGBMR',LGBMRegressor()))\n",
        "\n",
        "\n",
        "normal=MinMaxScaler()\n",
        "normal.fit(X)\n",
        "normal_X=pd.DataFrame(standard.transform(X), columns=X.columns)\n",
        "normal_test=test.drop(columns=['id'])\n",
        "normal_test=pd.DataFrame(standard.transform(normal_test), columns=X.columns)\n",
        "\n",
        "names=[]\n",
        "normal_results=[]\n",
        "for name, model in normal_models:\n",
        "  kf = KFold(n_splits=5,random_state=1,shuffle = True)\n",
        "  normal_scores=[]\n",
        "  for train_idx, valid_idx in kf.split(normal_X,y):\n",
        "    X_tr=normal_X.iloc[train_idx]\n",
        "    y_tr=y.iloc[train_idx]\n",
        "\n",
        "    X_val=normal_X.iloc[valid_idx]\n",
        "    y_val=y.iloc[valid_idx]\n",
        "\n",
        "    model.fit(X_tr,y_tr)\n",
        "    score=sqrt(mean_squared_error(y_val,model.predict(X_val)))\n",
        "    normal_scores.append(score)\n",
        "  normal_results.append(normal_scores)\n",
        "  names.append(name)\n",
        "  print('{} : {}'.format(name,np.mean(normal_scores)))"
      ],
      "metadata": {
        "colab": {
          "base_uri": "https://localhost:8080/"
        },
        "id": "AQr-lWNyLvIH",
        "outputId": "a6091230-e97d-48b6-f884-ce4abcb95db1"
      },
      "execution_count": 152,
      "outputs": [
        {
          "output_type": "stream",
          "name": "stdout",
          "text": [
            "LR : 321.82032590909654\n",
            "KNN : 346.40299854220905\n",
            "CART : 427.8132752154832\n",
            "SVM : 773.4420931414999\n",
            "RFR : 342.7516392066676\n",
            "XGBR : 359.1888222132628\n",
            "LGBMR : 335.94591378272855\n"
          ]
        }
      ]
    },
    {
      "cell_type": "markdown",
      "source": [
        "#### 이제 기본, 표준화, 정규화한 데이터로 모델링한 애들을 비교해보자"
      ],
      "metadata": {
        "id": "8W9iDtabhjmr"
      }
    },
    {
      "cell_type": "code",
      "source": [
        "base_results=list(map(np.mean,base_results))\n",
        "standard_results=list(map(np.mean,standard_results))\n",
        "normal_results=list(map(np.mean,normal_results))"
      ],
      "metadata": {
        "id": "e2D_plI9Rlmk"
      },
      "execution_count": 153,
      "outputs": []
    },
    {
      "cell_type": "code",
      "source": [
        "graph_df=pd.DataFrame(columns=names)\n",
        "graph_df = graph_df.append(pd.Series(base_results, index=graph_df.columns), ignore_index=True)\n",
        "graph_df = graph_df.append(pd.Series(standard_results, index=graph_df.columns), ignore_index=True)\n",
        "graph_df = graph_df.append(pd.Series(normal_results, index=graph_df.columns), ignore_index=True)\n",
        "graph_df.rename(index={0:'base',1:'standard',2:'normal'},inplace=True)\n",
        "graph_df"
      ],
      "metadata": {
        "colab": {
          "base_uri": "https://localhost:8080/",
          "height": 143
        },
        "id": "Jo6WNFAqMOXu",
        "outputId": "2399e55d-3791-4344-cb8b-6750e2c6bf49"
      },
      "execution_count": 154,
      "outputs": [
        {
          "output_type": "execute_result",
          "data": {
            "text/html": [
              "\n",
              "  <div id=\"df-d0e1d597-80d7-405c-a7e2-ed01a789742c\">\n",
              "    <div class=\"colab-df-container\">\n",
              "      <div>\n",
              "<style scoped>\n",
              "    .dataframe tbody tr th:only-of-type {\n",
              "        vertical-align: middle;\n",
              "    }\n",
              "\n",
              "    .dataframe tbody tr th {\n",
              "        vertical-align: top;\n",
              "    }\n",
              "\n",
              "    .dataframe thead th {\n",
              "        text-align: right;\n",
              "    }\n",
              "</style>\n",
              "<table border=\"1\" class=\"dataframe\">\n",
              "  <thead>\n",
              "    <tr style=\"text-align: right;\">\n",
              "      <th></th>\n",
              "      <th>LR</th>\n",
              "      <th>KNN</th>\n",
              "      <th>CART</th>\n",
              "      <th>SVM</th>\n",
              "      <th>RFR</th>\n",
              "      <th>XGBR</th>\n",
              "      <th>LGBMR</th>\n",
              "    </tr>\n",
              "  </thead>\n",
              "  <tbody>\n",
              "    <tr>\n",
              "      <th>base</th>\n",
              "      <td>321.820326</td>\n",
              "      <td>378.986196</td>\n",
              "      <td>443.561403</td>\n",
              "      <td>785.419438</td>\n",
              "      <td>341.136047</td>\n",
              "      <td>358.817482</td>\n",
              "      <td>336.943822</td>\n",
              "    </tr>\n",
              "    <tr>\n",
              "      <th>standard</th>\n",
              "      <td>321.820326</td>\n",
              "      <td>346.402999</td>\n",
              "      <td>448.709374</td>\n",
              "      <td>773.442093</td>\n",
              "      <td>340.206234</td>\n",
              "      <td>359.188822</td>\n",
              "      <td>335.945914</td>\n",
              "    </tr>\n",
              "    <tr>\n",
              "      <th>normal</th>\n",
              "      <td>321.820326</td>\n",
              "      <td>346.402999</td>\n",
              "      <td>427.813275</td>\n",
              "      <td>773.442093</td>\n",
              "      <td>342.751639</td>\n",
              "      <td>359.188822</td>\n",
              "      <td>335.945914</td>\n",
              "    </tr>\n",
              "  </tbody>\n",
              "</table>\n",
              "</div>\n",
              "      <button class=\"colab-df-convert\" onclick=\"convertToInteractive('df-d0e1d597-80d7-405c-a7e2-ed01a789742c')\"\n",
              "              title=\"Convert this dataframe to an interactive table.\"\n",
              "              style=\"display:none;\">\n",
              "        \n",
              "  <svg xmlns=\"http://www.w3.org/2000/svg\" height=\"24px\"viewBox=\"0 0 24 24\"\n",
              "       width=\"24px\">\n",
              "    <path d=\"M0 0h24v24H0V0z\" fill=\"none\"/>\n",
              "    <path d=\"M18.56 5.44l.94 2.06.94-2.06 2.06-.94-2.06-.94-.94-2.06-.94 2.06-2.06.94zm-11 1L8.5 8.5l.94-2.06 2.06-.94-2.06-.94L8.5 2.5l-.94 2.06-2.06.94zm10 10l.94 2.06.94-2.06 2.06-.94-2.06-.94-.94-2.06-.94 2.06-2.06.94z\"/><path d=\"M17.41 7.96l-1.37-1.37c-.4-.4-.92-.59-1.43-.59-.52 0-1.04.2-1.43.59L10.3 9.45l-7.72 7.72c-.78.78-.78 2.05 0 2.83L4 21.41c.39.39.9.59 1.41.59.51 0 1.02-.2 1.41-.59l7.78-7.78 2.81-2.81c.8-.78.8-2.07 0-2.86zM5.41 20L4 18.59l7.72-7.72 1.47 1.35L5.41 20z\"/>\n",
              "  </svg>\n",
              "      </button>\n",
              "      \n",
              "  <style>\n",
              "    .colab-df-container {\n",
              "      display:flex;\n",
              "      flex-wrap:wrap;\n",
              "      gap: 12px;\n",
              "    }\n",
              "\n",
              "    .colab-df-convert {\n",
              "      background-color: #E8F0FE;\n",
              "      border: none;\n",
              "      border-radius: 50%;\n",
              "      cursor: pointer;\n",
              "      display: none;\n",
              "      fill: #1967D2;\n",
              "      height: 32px;\n",
              "      padding: 0 0 0 0;\n",
              "      width: 32px;\n",
              "    }\n",
              "\n",
              "    .colab-df-convert:hover {\n",
              "      background-color: #E2EBFA;\n",
              "      box-shadow: 0px 1px 2px rgba(60, 64, 67, 0.3), 0px 1px 3px 1px rgba(60, 64, 67, 0.15);\n",
              "      fill: #174EA6;\n",
              "    }\n",
              "\n",
              "    [theme=dark] .colab-df-convert {\n",
              "      background-color: #3B4455;\n",
              "      fill: #D2E3FC;\n",
              "    }\n",
              "\n",
              "    [theme=dark] .colab-df-convert:hover {\n",
              "      background-color: #434B5C;\n",
              "      box-shadow: 0px 1px 3px 1px rgba(0, 0, 0, 0.15);\n",
              "      filter: drop-shadow(0px 1px 2px rgba(0, 0, 0, 0.3));\n",
              "      fill: #FFFFFF;\n",
              "    }\n",
              "  </style>\n",
              "\n",
              "      <script>\n",
              "        const buttonEl =\n",
              "          document.querySelector('#df-d0e1d597-80d7-405c-a7e2-ed01a789742c button.colab-df-convert');\n",
              "        buttonEl.style.display =\n",
              "          google.colab.kernel.accessAllowed ? 'block' : 'none';\n",
              "\n",
              "        async function convertToInteractive(key) {\n",
              "          const element = document.querySelector('#df-d0e1d597-80d7-405c-a7e2-ed01a789742c');\n",
              "          const dataTable =\n",
              "            await google.colab.kernel.invokeFunction('convertToInteractive',\n",
              "                                                     [key], {});\n",
              "          if (!dataTable) return;\n",
              "\n",
              "          const docLinkHtml = 'Like what you see? Visit the ' +\n",
              "            '<a target=\"_blank\" href=https://colab.research.google.com/notebooks/data_table.ipynb>data table notebook</a>'\n",
              "            + ' to learn more about interactive tables.';\n",
              "          element.innerHTML = '';\n",
              "          dataTable['output_type'] = 'display_data';\n",
              "          await google.colab.output.renderOutput(dataTable, element);\n",
              "          const docLink = document.createElement('div');\n",
              "          docLink.innerHTML = docLinkHtml;\n",
              "          element.appendChild(docLink);\n",
              "        }\n",
              "      </script>\n",
              "    </div>\n",
              "  </div>\n",
              "  "
            ],
            "text/plain": [
              "                  LR         KNN  ...        XGBR       LGBMR\n",
              "base      321.820326  378.986196  ...  358.817482  336.943822\n",
              "standard  321.820326  346.402999  ...  359.188822  335.945914\n",
              "normal    321.820326  346.402999  ...  359.188822  335.945914\n",
              "\n",
              "[3 rows x 7 columns]"
            ]
          },
          "metadata": {},
          "execution_count": 154
        }
      ]
    },
    {
      "cell_type": "code",
      "source": [
        "graph_df.T.plot(kind='bar',figsize=(9,7))\n",
        "plt.show()\n"
      ],
      "metadata": {
        "colab": {
          "base_uri": "https://localhost:8080/",
          "height": 454
        },
        "id": "SvxyV2CsOee0",
        "outputId": "19bc1103-dc09-4f3f-a2f3-c80f714774bd"
      },
      "execution_count": 155,
      "outputs": [
        {
          "output_type": "display_data",
          "data": {
            "image/png": "[encoded data removed]",
            "text/plain": [
              "<Figure size 648x504 with 1 Axes>"
            ]
          },
          "metadata": {
            "needs_background": "light"
          }
        }
      ]
    },
    {
      "cell_type": "markdown",
      "source": [
        "위의 그래프로 의사결정나무와 SVM이 성능이 낮은 것을 볼 수 있다. 이 두개 모델을 제외하고 데이터로 앙상블 모델을 만든다."
      ],
      "metadata": {
        "id": "77VEHlbUUrH9"
      }
    },
    {
      "cell_type": "markdown",
      "source": [
        "### 기본 train으로 만든 모델로 test데이터를 예측해본다.\n",
        "\n",
        "점수 : 289.658655845"
      ],
      "metadata": {
        "id": "5Z46Qxvph2lN"
      }
    },
    {
      "cell_type": "code",
      "source": [
        "test_results=[]\n",
        "name_cnt=0\n",
        "for name, model in models:\n",
        "  if name=='CART' or name=='SVM':\n",
        "    continue\n",
        "\n",
        "  name_cnt+=1\n",
        "  test_result = model.predict(base_test)\n",
        "\n",
        "  if len(test_results)==0:\n",
        "    test_results=test_result\n",
        "  else:\n",
        "    test_results=[x+y for x,y in zip(test_results,test_result)]\n",
        "\n",
        "\n",
        "test_results=list(map(lambda x:x/name_cnt, test_results))\n",
        "\n",
        "sample=pd.read_csv('sample_submission.csv')\n",
        "sample['Body Mass (g)']=test_results\n",
        "\n",
        "sample.to_csv('base_model.csv',index=False)"
      ],
      "metadata": {
        "id": "mod4UV73WcTV"
      },
      "execution_count": 160,
      "outputs": []
    },
    {
      "cell_type": "markdown",
      "source": [
        "### 표준화한 train으로 만든 모델로 test데이터를 예측해본다.\n",
        "점수 : 289.962761874"
      ],
      "metadata": {
        "id": "0Hp1j2Fbh8et"
      }
    },
    {
      "cell_type": "code",
      "source": [
        "test_results=[]\n",
        "name_cnt=0\n",
        "for name, model in standard_models:\n",
        "  if name=='CART' or name=='SVM':\n",
        "    continue\n",
        "\n",
        "  name_cnt+=1\n",
        "  test_result = model.predict(standard_test)\n",
        "\n",
        "  if len(test_results)==0:\n",
        "    test_results=test_result\n",
        "  else:\n",
        "    test_results=[x+y for x,y in zip(test_results,test_result)]\n",
        "\n",
        "\n",
        "test_results=list(map(lambda x:x/name_cnt, test_results))\n",
        "\n",
        "sample=pd.read_csv('sample_submission.csv')\n",
        "sample['Body Mass (g)']=test_results\n",
        "\n",
        "sample.to_csv('standard_model.csv',index=False)"
      ],
      "metadata": {
        "id": "tia_UaKZWcRE"
      },
      "execution_count": 161,
      "outputs": []
    },
    {
      "cell_type": "markdown",
      "source": [
        "### 정규화한 train으로 만든 모델로 test데이터를 예측해본다.\n",
        "점수 : 289.9015192568\n"
      ],
      "metadata": {
        "id": "uzjw-oLjh_P7"
      }
    },
    {
      "cell_type": "code",
      "source": [
        "test_results=[]\n",
        "name_cnt=0\n",
        "for name, model in normal_models:\n",
        "  if name=='CART' or name=='SVM':\n",
        "    continue\n",
        "\n",
        "  name_cnt+=1\n",
        "  test_result = model.predict(normal_test)\n",
        "\n",
        "  if len(test_results)==0:\n",
        "    test_results=test_result\n",
        "  else:\n",
        "    test_results=[x+y for x,y in zip(test_results,test_result)]\n",
        "\n",
        "\n",
        "test_results=list(map(lambda x:x/name_cnt, test_results))\n",
        "\n",
        "sample=pd.read_csv('sample_submission.csv')\n",
        "sample['Body Mass (g)']=test_results\n",
        "\n",
        "sample.to_csv('normal_model.csv',index=False)"
      ],
      "metadata": {
        "id": "SuXZBTt9WcOj"
      },
      "execution_count": 162,
      "outputs": []
    },
    {
      "cell_type": "markdown",
      "source": [
        "---"
      ],
      "metadata": {
        "id": "iE4ZWwkdhJ8o"
      }
    },
    {
      "cell_type": "code",
      "source": [
        ""
      ],
      "metadata": {
        "id": "e5iiVNxmhJQY"
      },
      "execution_count": null,
      "outputs": []
    },
    {
      "cell_type": "code",
      "source": [
        ""
      ],
      "metadata": {
        "id": "b9q-AL56hJNu"
      },
      "execution_count": null,
      "outputs": []
    },
    {
      "cell_type": "code",
      "source": [
        ""
      ],
      "metadata": {
        "id": "vyvLrbEehJK3"
      },
      "execution_count": null,
      "outputs": []
    },
    {
      "cell_type": "code",
      "source": [
        ""
      ],
      "metadata": {
        "id": "a3dy3n5whJIB"
      },
      "execution_count": null,
      "outputs": []
    },
    {
      "cell_type": "code",
      "source": [
        ""
      ],
      "metadata": {
        "id": "rUvle1lEhJFU"
      },
      "execution_count": null,
      "outputs": []
    },
    {
      "cell_type": "code",
      "source": [
        ""
      ],
      "metadata": {
        "id": "E6ZtUpeFhJCa"
      },
      "execution_count": null,
      "outputs": []
    },
    {
      "cell_type": "code",
      "source": [
        ""
      ],
      "metadata": {
        "id": "d8-bBiSihI-9"
      },
      "execution_count": null,
      "outputs": []
    },
    {
      "cell_type": "code",
      "source": [
        "rf_params={\n",
        "    'max_depth':(1,3),\n",
        "    'n_estimators':(30,100),\n",
        "}\n",
        "xgb_params={\n",
        "    'gamma':(0,10),\n",
        "    'max_depth':(1,3),\n",
        "    'subsample':(0.5,1),\n",
        "}\n",
        "lgbm_params={\n",
        "    'n_estimators':(30,100),\n",
        "    'max_depth':(1,3),\n",
        "    'subsample':(0.5,1)\n",
        "}"
      ],
      "metadata": {
        "id": "5vO4pmCzOfE0"
      },
      "execution_count": 91,
      "outputs": []
    },
    {
      "cell_type": "code",
      "source": [
        "def rf_bo(max_depth, n_estimators):\n",
        "  params={\n",
        "      'max_depth':int(round(max_depth)),\n",
        "      'n_estimators':int(round(n_estimators)),\n",
        "  }\n",
        "\n",
        "  model=RandomForestClassifier(**params)\n",
        "  \n",
        "  X_train,X_valid,y_train,y_valid=train_test_split(X,y,test_size=0.8)\n",
        "  model.fit(X_train, y_train)\n",
        "\n",
        "  score=accuracy_score(y_valid, model.predict(X_valid))\n",
        "  return score\n",
        "\n",
        "def xgb_bo(gamma,max_depth, subsample):\n",
        "  params={\n",
        "      'gamma':int(round(gamma)),\n",
        "      'max_depth':int(round(max_depth)),\n",
        "      'subsample':int(round(subsample)),\n",
        "  }\n",
        "  model=XGBClassifier(**params)\n",
        "  X_train,X_valid,y_train,y_valid=train_test_split(X,y,test_size=0.2)\n",
        "\n",
        "  model.fit(X_train,y_train)\n",
        "\n",
        "  score=accuracy_score(y_valid,model.predict(X_valid))\n",
        "  return score\n",
        "\n",
        "def lgbm_bo(n_estimators,max_depth, subsample):\n",
        "  params={\n",
        "      'n_estimaotrs':int(round(n_estimators)),\n",
        "      'max_depth':int(round(max_depth)),\n",
        "      'subsample':int(round(subsample)),\n",
        "  }\n",
        "  model=LGBMClassifier(**params)\n",
        "  X_train,X_valid,y_train,y_valid=train_test_split(X,y,test_size=0.2)\n",
        "  model.fit(X_train,y_train)\n",
        "\n",
        "  score=accuracy_score(y_valid,model.predict(X_valid))\n",
        "  return score"
      ],
      "metadata": {
        "id": "M1E_LrHyPK2p"
      },
      "execution_count": null,
      "outputs": []
    }
  ]
}